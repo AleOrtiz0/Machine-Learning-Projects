{
 "cells": [
  {
   "cell_type": "code",
   "execution_count": 4,
   "metadata": {
    "deletable": false,
    "editable": false,
    "nbgrader": {
     "cell_type": "code",
     "checksum": "25baca8bff1b0a726cbbb5e2fbb5d12c",
     "grade": false,
     "grade_id": "cell-ec24e86b4be87c90",
     "locked": true,
     "schema_version": 3,
     "solution": false,
     "task": false
    }
   },
   "outputs": [],
   "source": [
    "%matplotlib inline\n",
    "%load_ext autoreload\n",
    "%autoreload 2\n",
    "\n",
    "import matplotlib.pyplot as plt\n",
    "import numpy as np\n",
    "import seaborn as sns\n",
    "import pandas as pd\n",
    "import time\n",
    "import os\n",
    "from sklearn.decomposition import TruncatedSVD\n",
    "\n",
    "from aml_utils import test_case_checker, perform_computation"
   ]
  },
  {
   "cell_type": "markdown",
   "metadata": {
    "deletable": false,
    "editable": false,
    "nbgrader": {
     "cell_type": "markdown",
     "checksum": "679ff8535f8f0ae9959669d760d38877",
     "grade": false,
     "grade_id": "cell-8bbaf04a7d2caac7",
     "locked": true,
     "schema_version": 3,
     "solution": false,
     "task": false
    }
   },
   "source": [
    "## <span style=\"color:red\">**Attention:**</span>\n",
    "\n",
    "This assignment is computationally heavy, and inefficient implementations may not pass the autograding even if they technically produce the correct results. To avoid this, make sure you read and understand all the instructions before starting to implement the tasks. Failure to follow the instructions closely will most likely cause timeouts.\n",
    "\n",
    "It is **your responsibility** to make sure your implementation is not only **correct**, but also as **efficient** as possible. If you follow all the instructions provided, you should be able to have all the cells evaluated in under 10 minutes."
   ]
  },
  {
   "cell_type": "markdown",
   "metadata": {
    "deletable": false,
    "editable": false,
    "nbgrader": {
     "cell_type": "markdown",
     "checksum": "62dfee5c699dd6889eb0b60e9ca1e6bb",
     "grade": false,
     "grade_id": "cell-126626f62cc20854",
     "locked": true,
     "schema_version": 3,
     "solution": false,
     "task": false
    }
   },
   "source": [
    "# *Assignment Summary"
   ]
  },
  {
   "cell_type": "markdown",
   "metadata": {
    "deletable": false,
    "editable": false,
    "nbgrader": {
     "cell_type": "markdown",
     "checksum": "d4ec49dac74703bc89fd2451c53c3e62",
     "grade": false,
     "grade_id": "cell-4aac2e8e7822fd0a",
     "locked": true,
     "schema_version": 3,
     "solution": false,
     "task": false
    }
   },
   "source": [
    "CIFAR-10 is a dataset of 32x32 images in 10 categories, collected by Alex Krizhevsky, Vinod Nair, and Geoffrey Hinton. It is often used to evaluate machine learning algorithms. You can download this dataset from https://www.cs.toronto.edu/~kriz/cifar.html.\n",
    "\n",
    "  * For each category, compute the mean image and the first 20 principal components. Plot the error resulting from representing the images of each category using the first 20 principal components against the category.\n",
    "  * Compute the distances between mean images for each pair of classes. Use principal coordinate analysis to make a 2D map of the means of each categories. For this exercise, compute distances by thinking of the images as vectors.\n",
    "  * Here is another measure of the similarity of two classes. For class A and class B, define E(A | B) to be the average error obtained by representing all the images of class A using the mean of class A and the first 20 principal components of class B. Now define the similarity between classes to be (1/2)(E(A | B) + E(B | A)). If A and B are very similar, then this error should be small, because A's principal components should be good at representing B. But if they are very different, then A's principal components should represent B poorly. In turn, the similarity measure should be big. Use principal coordinate analysis to make a 2D map of the classes. Compare this map to the map in the previous exercise? are they different? why?"
   ]
  },
  {
   "cell_type": "markdown",
   "metadata": {
    "deletable": false,
    "editable": false,
    "nbgrader": {
     "cell_type": "markdown",
     "checksum": "b31fd936fd668aa58f1c0d40377691de",
     "grade": false,
     "grade_id": "cell-4323ab942f9861c8",
     "locked": true,
     "schema_version": 3,
     "solution": false,
     "task": false
    }
   },
   "source": [
    "# 0. Data"
   ]
  },
  {
   "cell_type": "markdown",
   "metadata": {
    "deletable": false,
    "editable": false,
    "nbgrader": {
     "cell_type": "markdown",
     "checksum": "f2bb5361816db9dfd598626b5fccc149",
     "grade": false,
     "grade_id": "cell-ec182aaf67ad639b",
     "locked": true,
     "schema_version": 3,
     "solution": false,
     "task": false
    }
   },
   "source": [
    "## 0.1 Description"
   ]
  },
  {
   "cell_type": "markdown",
   "metadata": {
    "deletable": false,
    "editable": false,
    "nbgrader": {
     "cell_type": "markdown",
     "checksum": "f8322e150c1494ee142807ec296adf39",
     "grade": false,
     "grade_id": "cell-e68149838859a50d",
     "locked": true,
     "schema_version": 3,
     "solution": false,
     "task": false
    }
   },
   "source": [
    "CIFAR-10 is a dataset of 32x32 images in 10 categories, collected by Alex Krizhevsky, Vinod Nair, and Geoffrey Hinton. It is often used to evaluate machine learning algorithms. You can download this dataset from https://www.cs.toronto.edu/~kriz/cifar.html."
   ]
  },
  {
   "cell_type": "markdown",
   "metadata": {
    "deletable": false,
    "editable": false,
    "nbgrader": {
     "cell_type": "markdown",
     "checksum": "cabd3372b4d5b8de2ca03fa04a627a79",
     "grade": false,
     "grade_id": "cell-c26f601a37c82ebb",
     "locked": true,
     "schema_version": 3,
     "solution": false,
     "task": false
    }
   },
   "source": [
    "## 0.2 Information Summary"
   ]
  },
  {
   "cell_type": "markdown",
   "metadata": {
    "deletable": false,
    "editable": false,
    "nbgrader": {
     "cell_type": "markdown",
     "checksum": "2e558b97fb10de28fcd1b2ff4e32bb7f",
     "grade": false,
     "grade_id": "cell-1e97401ec43057c7",
     "locked": true,
     "schema_version": 3,
     "solution": false,
     "task": false
    }
   },
   "source": [
    "* **Input/Output**: This data has a set of 32 pixel rows, 32 pixel columns, and 3 color channels. Therefore, each single image, is vectorized, will consist of $32\\times32\\times3$ elements (i.e., each image has 3072 dimensions). There are a total of 60000 samples labelled from 10 class. The data set is balanced with each class having exactly 6000 samples.\n",
    "\n",
    "* **Missing Data**: There is no missing data.\n",
    "\n",
    "* **Final Goal**: We want to understand the data using multi-dimensional scaling methods."
   ]
  },
  {
   "cell_type": "markdown",
   "metadata": {
    "deletable": false,
    "editable": false,
    "nbgrader": {
     "cell_type": "markdown",
     "checksum": "855bd0648f936113f50b7b8db04d2fba",
     "grade": false,
     "grade_id": "cell-13ad8c559fbfe967",
     "locked": true,
     "schema_version": 3,
     "solution": false,
     "task": false
    }
   },
   "source": [
    "## 0.3 Loading The Data"
   ]
  },
  {
   "cell_type": "markdown",
   "metadata": {
    "deletable": false,
    "editable": false,
    "nbgrader": {
     "cell_type": "markdown",
     "checksum": "3225c13a2a95a973feeccb98d3a875dd",
     "grade": false,
     "grade_id": "cell-5c3f781747e04661",
     "locked": true,
     "schema_version": 3,
     "solution": false,
     "task": false
    }
   },
   "source": [
    "If you are curious how the original data was obtained, we used the torchvision API to download and pre-process it. The ready-to-use data is stored in numpy format for easier access."
   ]
  },
  {
   "cell_type": "code",
   "execution_count": 5,
   "metadata": {
    "deletable": false,
    "editable": false,
    "nbgrader": {
     "cell_type": "code",
     "checksum": "ec2f5927cffb21a0219f7ca127801959",
     "grade": false,
     "grade_id": "cell-3d82a251ca8524f2",
     "locked": true,
     "schema_version": 3,
     "solution": false,
     "task": false
    }
   },
   "outputs": [],
   "source": [
    "if os.path.exists('cifar10.npz'):    \n",
    "    np_file = np.load('cifar10.npz')\n",
    "    train_images_raw = np_file['train_images_raw']\n",
    "    train_labels = np_file['train_labels']\n",
    "    eval_images_raw = np_file['eval_images_raw']\n",
    "    eval_labels = np_file['eval_labels']\n",
    "\n",
    "else:\n",
    "    import torchvision\n",
    "    download_ = not os.path.exists('./cifar10/')\n",
    "    data_train = torchvision.datasets.CIFAR10('cifar10', train=True, transform=None, target_transform=None, download=download_)\n",
    "    data_eval = torchvision.datasets.CIFAR10('cifar10', train=False, transform=None, target_transform=None, download=download_)\n",
    "    train_images_raw = data_train.data\n",
    "    train_labels = np.array(data_train.targets)\n",
    "    eval_images_raw = data_eval.data\n",
    "    eval_labels = np.array(data_eval.targets)\n",
    "    np.savez('cifar10.npz', train_images_raw=train_images_raw, train_labels=train_labels, \n",
    "             eval_images_raw=eval_images_raw, eval_labels=eval_labels)"
   ]
  },
  {
   "cell_type": "code",
   "execution_count": 6,
   "metadata": {
    "deletable": false,
    "editable": false,
    "nbgrader": {
     "cell_type": "code",
     "checksum": "e355cb2724429c6f8e883a5674c065a9",
     "grade": false,
     "grade_id": "cell-d819499d98875dcb",
     "locked": true,
     "schema_version": 3,
     "solution": false,
     "task": false
    }
   },
   "outputs": [],
   "source": [
    "class_to_idx = {'airplane': 0,\n",
    "                'automobile': 1,\n",
    "                'bird': 2,\n",
    "                'cat': 3,\n",
    "                'deer': 4,\n",
    "                'dog': 5,\n",
    "                'frog': 6,\n",
    "                'horse': 7,\n",
    "                'ship': 8,\n",
    "                'truck': 9}"
   ]
  },
  {
   "cell_type": "code",
   "execution_count": 7,
   "metadata": {
    "deletable": false,
    "editable": false,
    "nbgrader": {
     "cell_type": "code",
     "checksum": "348a58f47b0d37f5dc7906c57f44849c",
     "grade": false,
     "grade_id": "cell-945677be9bc4323a",
     "locked": true,
     "schema_version": 3,
     "solution": false,
     "task": false
    }
   },
   "outputs": [
    {
     "data": {
      "text/plain": [
       "((60000, 32, 32, 3), (60000,))"
      ]
     },
     "execution_count": 7,
     "metadata": {},
     "output_type": "execute_result"
    }
   ],
   "source": [
    "images_raw = np.concatenate([train_images_raw, eval_images_raw], axis=0)\n",
    "labels = np.concatenate([train_labels, eval_labels], axis=0)\n",
    "images_raw.shape, labels.shape"
   ]
  },
  {
   "cell_type": "markdown",
   "metadata": {
    "deletable": false,
    "editable": false,
    "nbgrader": {
     "cell_type": "markdown",
     "checksum": "9d1d7be45d4071c4f45fed60ad79231e",
     "grade": false,
     "grade_id": "cell-b8ce376827a7d7d6",
     "locked": true,
     "schema_version": 3,
     "solution": false,
     "task": false
    }
   },
   "source": [
    "# 1. Principal Component Analysis"
   ]
  },
  {
   "cell_type": "markdown",
   "metadata": {
    "deletable": false,
    "editable": false,
    "nbgrader": {
     "cell_type": "markdown",
     "checksum": "b3933fdb13d84b42673e06816854a41e",
     "grade": false,
     "grade_id": "cell-d68e5b994b848f78",
     "locked": true,
     "schema_version": 3,
     "solution": false,
     "task": false
    }
   },
   "source": [
    "0. Let's say we have Data Matrix $X$ with $N$ rows (i.e., data points) and $d$ columns (i.e., features).\n",
    "$$X = [\\cdots]_{N \\times d}$$\n",
    "1. Let's perform SVD on the $X$.\n",
    "$$X=U_x S_x V_x^T$$\n",
    "Let's assume $N>d$ (We have 6000 data points per class, which is more than the 3072 dimenstions).\n",
    "\n",
    "By the way SVD works, we should have\n",
    "$$U_x = [\\cdots]_{N \\times d}$$\n",
    "$$S_x = [\\cdots]_{d \\times d}$$\n",
    "$$V_x = [\\cdots]_{d \\times d}$$\n",
    "and\n",
    "$$U_x^T U_x = I_{d\\times d}$$\n",
    "$$V_x^T V_x = I_{d\\times d}$$\n",
    "\n",
    "2. The textbook says we need the following decomposition for the covariance matrix $\\Sigma$:\n",
    "$$\\Sigma \\mathcal{U} = \\mathcal{U} \\Lambda$$\n",
    "3. We assume that X has mean zero (i.e., we already subtracted the feature averages). If $X$ has $N$ rows (i.e., data items), we have\n",
    "$$\\Sigma = \\frac{1}{N} X^TX$$\n",
    "4. Let's find $\\Sigma$ in terms of $U_x$, $S_x$, and $V_x$\n",
    "$$\\Sigma = \\frac{1}{N} X^TX = \\frac{1}{N} V_x S_x U_x^T U_x S_x V_x^T = V_x \\frac{S_x^2}{N} V_x^T$$\n",
    "$$\\Rightarrow \\Sigma V_x = V_x \\frac{S_x^2}{N}$$\n",
    "5. By comparison, we have\n",
    "$$\\mathcal{U} = V_x$$\n",
    "$$\\Lambda = \\frac{S_x^2}{N}$$"
   ]
  },
  {
   "cell_type": "markdown",
   "metadata": {
    "deletable": false,
    "editable": false,
    "nbgrader": {
     "cell_type": "markdown",
     "checksum": "d00527efecd70dab54cea61670606a2e",
     "grade": false,
     "grade_id": "cell-bbda7adfc7fccf50",
     "locked": true,
     "schema_version": 3,
     "solution": false,
     "task": false
    }
   },
   "source": [
    "### Considering the above:\n",
    "1. **There is no need to compute the covariance matrix $\\Sigma$** and then find its diagonalization; You can easily perform SVD on the data matrix $X$, and get what you need!\n",
    "2. In fact, you do not even need the matrices $V_x$ and $U_x$ for computing the mean squared error; You can infer the mean squared error using only the $S_x$ matrix. \n",
    "    * Numpy's SVD function `np.linalg.svd` has an argument `compute_uv` that turns off returning the $U$ and $V$ matrices for better efficiency. Therefore, you may be able to save some runtime in large data sets if you only care about the mean squared error!"
   ]
  },
  {
   "cell_type": "markdown",
   "metadata": {
    "deletable": false,
    "editable": false,
    "nbgrader": {
     "cell_type": "markdown",
     "checksum": "cf4e873cf56ab3088193186ba96f48d7",
     "grade": false,
     "grade_id": "cell-39ec4f39cb201728",
     "locked": true,
     "schema_version": 3,
     "solution": false,
     "task": false
    }
   },
   "source": [
    "# <span style=\"color:blue\">Task 1</span>"
   ]
  },
  {
   "cell_type": "markdown",
   "metadata": {
    "deletable": false,
    "editable": false,
    "nbgrader": {
     "cell_type": "markdown",
     "checksum": "efe4b7fbebb3a0cc3baa31ffd1b26414",
     "grade": false,
     "grade_id": "cell-98ce097d8b3f6101",
     "locked": true,
     "schema_version": 3,
     "solution": false,
     "task": false
    }
   },
   "source": [
    "Write a function `pca_mse` that takes two arguments as input\n",
    "\n",
    "1. `data_raw`: a numpy array with the shape $(N, \\cdots)$, where $N$ is the number of samples, and there may be many excess dimensions denoted by $\\cdots$. You will have to reshape this input `data_raw` matrix to obtain a shape of $(N, d)$, where $d$ is the vectorized data's dimension. For example, `data_raw` could have an input shape of `(6000, 50, 50, 3)`. In this case you will have to reshape the input data to have a shape of `(6000, 7500)`.\n",
    "2. `num_components`: This is the number of PCA components that we want to retain. This variable is denoted by $r$ in the PCA definition in the textbook.\n",
    "\n",
    "and returns the variable `mse` which is the mean squared error of the PCA projection into the designated number of principal components.\n",
    "\n",
    "**Important Note**: Make sure you use `np.linalg.svd` for the SVD operation. Do not use any other matrix factorization function for this question (such as `np.linalg.eig`).\n",
    "\n",
    "**Important Note**: Make sure you read and understand the notes from the previous cells before you start implementing. Failing to properly set the arguments for `np.linalg.svd` or trying to find the mean squared error by calculating the reconstruction error may cause extreme delays and timeouts for your implementation.\n",
    "\n",
    "**Hint**: If you don't know how to extract the mean squared error of the PCA projection, or don't have a fresh probability and statistics memory, take a look at the Principal Component Analysis chapter of the most recent version of the textbook; the subsection titled \"The error in a low-dimensional representation\" explains how to find the mean squared error of the PCA projection as a function of the eigenvalues that were dropped."
   ]
  },
  {
   "cell_type": "code",
   "execution_count": 8,
   "metadata": {
    "deletable": false,
    "nbgrader": {
     "cell_type": "code",
     "checksum": "efecf8ddad75154599a335eb0969eae2",
     "grade": false,
     "grade_id": "cell-63e2e51110a2ad36",
     "locked": false,
     "schema_version": 3,
     "solution": true,
     "task": false
    }
   },
   "outputs": [],
   "source": [
    "def pca_mse(data_raw, num_components=20):\n",
    "    \n",
    "    # YOUR CODE HERE\n",
    "    N = data_raw.shape[0]\n",
    "    d = np.prod(data_raw.shape[1:])\n",
    "    data_reshaped = data_raw.reshape(N, d)\n",
    "    \n",
    "    data_centered = data_reshaped - np.mean(data_reshaped, axis=0)\n",
    "    \n",
    "    U, S, Vt = np.linalg.svd(data_centered, full_matrices=False)\n",
    "\n",
    "    total_variance = np.sum(S ** 2)\n",
    "    \n",
    "    retained_variance = np.sum(S[:num_components] ** 2)\n",
    "    \n",
    "    mse = (total_variance - retained_variance) / N\n",
    "\n",
    "    assert np.isscalar(mse)\n",
    "    return np.float64(mse)"
   ]
  },
  {
   "cell_type": "code",
   "execution_count": 9,
   "metadata": {
    "deletable": false,
    "editable": false,
    "nbgrader": {
     "cell_type": "code",
     "checksum": "e609b17a977dd402a89eb150a0b252b8",
     "grade": true,
     "grade_id": "cell-800a950b15a6fb06",
     "locked": true,
     "points": 1,
     "schema_version": 3,
     "solution": false,
     "task": false
    }
   },
   "outputs": [],
   "source": [
    "some_data = (np.arange(35).reshape(5,7) ** 13) % 20\n",
    "some_mse = pca_mse(some_data, num_components=2)\n",
    "assert some_mse.round(3) == 37.903\n",
    "\n",
    "# Checking against the pre-computed test database\n",
    "test_results = test_case_checker(pca_mse, task_id=1)\n",
    "assert test_results['passed'], test_results['message']"
   ]
  },
  {
   "cell_type": "code",
   "execution_count": 10,
   "metadata": {
    "deletable": false,
    "editable": false,
    "nbgrader": {
     "cell_type": "code",
     "checksum": "1384ab548fa261ac86b5b979b352a76a",
     "grade": false,
     "grade_id": "cell-ab1d28ba3637952c",
     "locked": true,
     "schema_version": 3,
     "solution": false,
     "task": false
    }
   },
   "outputs": [
    {
     "name": "stdout",
     "output_type": "stream",
     "text": [
      "Processing Class airplane (The SVD operation took 28.864 seconds)\n",
      "Processing Class automobile (The SVD operation took 30.753 seconds)\n",
      "Processing Class bird (The SVD operation took 28.410 seconds)\n",
      "Processing Class cat (The SVD operation took 27.997 seconds)\n",
      "Processing Class deer (The SVD operation took 28.559 seconds)\n",
      "Processing Class dog (The SVD operation took 32.765 seconds)\n",
      "Processing Class frog (The SVD operation took 31.750 seconds)\n",
      "Processing Class horse (The SVD operation took 33.982 seconds)\n",
      "Processing Class ship (The SVD operation took 33.081 seconds)\n",
      "Processing Class truck (The SVD operation took 31.744 seconds)\n"
     ]
    }
   ],
   "source": [
    "if perform_computation:\n",
    "    class_names = []\n",
    "    class_mses = []\n",
    "    for cls_name, cls_label in class_to_idx.items():\n",
    "        data_raw = images_raw[labels == cls_label,:,:,:]\n",
    "        start_time = time.time()\n",
    "        print(f'Processing Class {cls_name}', end='')\n",
    "        cls_mse = pca_mse(data_raw, num_components=20)\n",
    "        print(f' (The SVD operation took %.3f seconds)' % (time.time()-start_time))\n",
    "        class_names.append(cls_name)\n",
    "        class_mses.append(cls_mse)"
   ]
  },
  {
   "cell_type": "code",
   "execution_count": 11,
   "metadata": {
    "deletable": false,
    "editable": false,
    "nbgrader": {
     "cell_type": "code",
     "checksum": "a2cb34cb922fd13877b57e5d62497601",
     "grade": false,
     "grade_id": "cell-1588a9242c614ddc",
     "locked": true,
     "schema_version": 3,
     "solution": false,
     "task": false
    }
   },
   "outputs": [
    {
     "data": {
      "image/png": "[encoded data removed]",
      "text/plain": [
       "<Figure size 1080x480 with 1 Axes>"
      ]
     },
     "metadata": {},
     "output_type": "display_data"
    }
   ],
   "source": [
    "if perform_computation:\n",
    "    fig, ax = plt.subplots(figsize=(9,4.), dpi=120)\n",
    "    sns.barplot(x=class_names, y=class_mses, ax=ax)\n",
    "    ax.set_title('The Mean Squared Error of Representing Each Class by the Principal Components')\n",
    "    ax.set_xlabel('Class')\n",
    "    _ = ax.set_ylabel('Mean Squared Error')"
   ]
  },
  {
   "cell_type": "markdown",
   "metadata": {
    "deletable": false,
    "editable": false,
    "nbgrader": {
     "cell_type": "markdown",
     "checksum": "7b39093e1d1f3a15ff7316a81b5fe1ad",
     "grade": false,
     "grade_id": "cell-65118005cbfdd43e",
     "locked": true,
     "schema_version": 3,
     "solution": false,
     "task": false
    }
   },
   "source": [
    "# 2. Principal Coordinate Analysis"
   ]
  },
  {
   "cell_type": "code",
   "execution_count": 12,
   "metadata": {
    "deletable": false,
    "editable": false,
    "nbgrader": {
     "cell_type": "code",
     "checksum": "e76f7f89b25e668f71fe5f8e7ed1af86",
     "grade": false,
     "grade_id": "cell-7eede4d32e924636",
     "locked": true,
     "schema_version": 3,
     "solution": false,
     "task": false
    }
   },
   "outputs": [],
   "source": [
    "class_mean_list = []\n",
    "for cls_label in sorted(class_to_idx.values()):\n",
    "    data_raw = images_raw[labels == cls_label,:,:,:]\n",
    "    class_mean = np.mean(data_raw, axis=0).reshape(1,-1)\n",
    "    class_mean_list.append(class_mean)\n",
    "class_means = np.concatenate(class_mean_list, axis=0)"
   ]
  },
  {
   "cell_type": "markdown",
   "metadata": {
    "deletable": false,
    "editable": false,
    "nbgrader": {
     "cell_type": "markdown",
     "checksum": "3077826c86cab3d4d068e27e1ed76b40",
     "grade": false,
     "grade_id": "cell-1cf14286181f0bea",
     "locked": true,
     "schema_version": 3,
     "solution": false,
     "task": false
    }
   },
   "source": [
    "# <span style=\"color:blue\">Task 2</span>"
   ]
  },
  {
   "cell_type": "markdown",
   "metadata": {
    "deletable": false,
    "editable": false,
    "nbgrader": {
     "cell_type": "markdown",
     "checksum": "adc46c5a03bcc46a436f9e9a8415e861",
     "grade": false,
     "grade_id": "cell-ed6e2a8895bc8b9e",
     "locked": true,
     "schema_version": 3,
     "solution": false,
     "task": false
    }
   },
   "source": [
    "Write a function `mean_image_squared_distances` that takes the matrix `class_means` as an input and return the `SquaredDistances` matrix as output.\n",
    "\n",
    "`class_means` is a numpy array like a traditional data matrix; it has a shape of $(N,d)$ where there are $N$ individual data-points where each is stored in a single $d$ dimensional row. $(N,d)$ could be anything, so do not make assumptions about it.\n",
    "\n",
    "Your job is to produce the numpy array `SquaredDistances` whose $i^{th}$ row and $j^{th}$ column is the **squared** Euclidean distance between the $i^{th}$ row of `class_means` and $j^{th}$ row of `class_means`. Obviously\n",
    "* The diagonal elements should be zero.\n",
    "* The `SquaredDistances` should be symmetric."
   ]
  },
  {
   "cell_type": "code",
   "execution_count": 13,
   "metadata": {
    "deletable": false,
    "nbgrader": {
     "cell_type": "code",
     "checksum": "c4fb7162784c19fccf6583627f497f18",
     "grade": false,
     "grade_id": "cell-02c8f5fea220aab2",
     "locked": false,
     "schema_version": 3,
     "solution": true,
     "task": false
    }
   },
   "outputs": [],
   "source": [
    "def mean_image_squared_distances(class_means):\n",
    "    \n",
    "    # YOUR CODE HERE\n",
    "    squared_norms = np.sum(class_means ** 2, axis=1).reshape(-1, 1)\n",
    "    \n",
    "    SquaredDistances = squared_norms + squared_norms.T - 2 * np.dot(class_means, class_means.T)\n",
    "    \n",
    "    SquaredDistances = np.maximum(SquaredDistances, 0)\n",
    "    \n",
    "    np.fill_diagonal(SquaredDistances, 0)\n",
    "    \n",
    "    return SquaredDistances"
   ]
  },
  {
   "cell_type": "code",
   "execution_count": 14,
   "metadata": {
    "deletable": false,
    "editable": false,
    "nbgrader": {
     "cell_type": "code",
     "checksum": "e9d91dd60aa0f1d1606102a7ec2f02a6",
     "grade": true,
     "grade_id": "cell-5f78e47da5118d6c",
     "locked": true,
     "points": 1,
     "schema_version": 3,
     "solution": false,
     "task": false
    }
   },
   "outputs": [],
   "source": [
    "some_data = ((np.arange(35).reshape(5,7) ** 13) % 20) / 7.\n",
    "some_dist = mean_image_squared_distances(some_data)\n",
    "assert np.array_equal(some_dist.round(3), np.array([[ 0.   ,  4.551, 18.204,  8.306, 14.041],\n",
    "                                                    [ 4.551,  0.   , 12.714,  3.918, 12.551],\n",
    "                                                    [18.204, 12.714,  0.   ,  8.633,  8.735],\n",
    "                                                    [ 8.306,  3.918,  8.633,  0.   ,  7.49 ],\n",
    "                                                    [14.041, 12.551,  8.735,  7.49 ,  0.   ]]))\n",
    "\n",
    "# Checking against the pre-computed test database\n",
    "test_results = test_case_checker(mean_image_squared_distances, task_id=2)\n",
    "assert test_results['passed'], test_results['message']"
   ]
  },
  {
   "cell_type": "markdown",
   "metadata": {
    "deletable": false,
    "editable": false,
    "nbgrader": {
     "cell_type": "markdown",
     "checksum": "729ce8cf7d365f1134c88e24c1148680",
     "grade": false,
     "grade_id": "cell-83673075bce888a9",
     "locked": true,
     "schema_version": 3,
     "solution": false,
     "task": false
    }
   },
   "source": [
    "# <span style=\"color:blue\">Task 3</span>"
   ]
  },
  {
   "cell_type": "markdown",
   "metadata": {
    "deletable": false,
    "editable": false,
    "nbgrader": {
     "cell_type": "markdown",
     "checksum": "2f6be5c596b414d04d2cc97f1c7f5dac",
     "grade": false,
     "grade_id": "cell-b5639db8c2b5b256",
     "locked": true,
     "schema_version": 3,
     "solution": false,
     "task": false
    }
   },
   "source": [
    "Read and implement the Principal Coordinate Analysis procedure from your textbook by writing the function `PCoA` which takes the following arguments:\n",
    "1. `SquaredDistances`: A numpy array which is square in shape, symmetric, and is the square of a distance matrix of some unknown set of points. The output of the `mean_image_squared_distances` function you wrote previously will be fed as this argument.\n",
    "\n",
    "2. `r`: This is the dimension of the visualization space, and corresponds to the same $r$ variable in the textbook procedure.\n",
    "\n",
    "Things to keep in mind:\n",
    "1. There is an erratum in the textbook's description of the PCoA procedure. There is a missing negative sign when computing the matrix $\\mathcal{W}$; the correct definition of $\\mathcal{W}$ is $\\mathcal{W}:=-\\frac{1}{2}\\mathcal{A}\\mathcal{D}^{(2)}\\mathcal{A}^T$.\n",
    "2. It is **vital** to make sure that eigenvalues are sorted as the textbook mentioned, and the eigenvectors are also ordered accordingly. Some decomposition functions such as `numpy`'s `np.linalg.eig` do not guarantee to return the eigenvalues and eigenvectors in any sorted way, and `np.linalg.eigh` guarantees to return them in ascending order; you will have to make sure they are sorted as the textbook says.\n",
    "\n",
    "**Note**: You should only use `np.linalg.eigh` for matrix factorization in this question since we're dealing with a symmetric matrix; do not use `np.linalg.eig`, `np.linalg.svd`, or any other matrix decomposition function in this question."
   ]
  },
  {
   "cell_type": "code",
   "execution_count": null,
   "metadata": {
    "deletable": false,
    "nbgrader": {
     "cell_type": "code",
     "checksum": "1a5f3eff3a7c500b38ef85958888c146",
     "grade": false,
     "grade_id": "cell-b2f8c860909b1751",
     "locked": false,
     "schema_version": 3,
     "solution": true,
     "task": false
    }
   },
   "outputs": [],
   "source": [
    "def PCoA(SquaredDistances, r=2):\n",
    "    assert SquaredDistances.shape[0] == SquaredDistances.shape[1]\n",
    "    num_points = SquaredDistances.shape[0]\n",
    "    \n",
    "    # YOUR CODE HERE\n",
    "    A = np.eye(num_points) - np.ones((num_points, num_points)) / num_points\n",
    "    \n",
    "    W = -0.5 * A @ SquaredDistances @ A.T\n",
    "    \n",
    "    eigenvalues, eigenvectors = np.linalg.eigh(W)\n",
    "    \n",
    "    sorted_indices = np.argsort(eigenvalues)[::-1]\n",
    "    eigenvalues = eigenvalues[sorted_indices]\n",
    "    eigenvectors = eigenvectors[:, sorted_indices]\n",
    "    \n",
    "    positive_indices = eigenvalues > 0\n",
    "    eigenvalues = eigenvalues[positive_indices]\n",
    "    eigenvectors = eigenvectors[:, positive_indices]\n",
    "    \n",
    "    if r > len(eigenvalues):\n",
    "        raise ValueError(f\"Requested dimension r={r} exceeds the number of positive eigenvalues ({len(eigenvalues)}).\")\n",
    "    \n",
    "    top_eigenvalues = eigenvalues[:r]\n",
    "    top_eigenvectors = eigenvectors[:, :r]\n",
    "    \n",
    "    VT = top_eigenvectors * np.sqrt(top_eigenvalues)\n",
    "    \n",
    "    assert VT.shape[0] == num_points\n",
    "    assert VT.shape[1] == r\n",
    "    return VT"
   ]
  },
  {
   "cell_type": "code",
   "execution_count": 16,
   "metadata": {
    "deletable": false,
    "editable": false,
    "nbgrader": {
     "cell_type": "code",
     "checksum": "08f528f6e8631c0ebbd0c6760222ffd8",
     "grade": true,
     "grade_id": "cell-c4fef9a0e399e382",
     "locked": true,
     "points": 1,
     "schema_version": 3,
     "solution": false,
     "task": false
    }
   },
   "outputs": [
    {
     "ename": "AssertionError",
     "evalue": "",
     "output_type": "error",
     "traceback": [
      "\u001b[1;31m---------------------------------------------------------------------------\u001b[0m",
      "\u001b[1;31mAssertionError\u001b[0m                            Traceback (most recent call last)",
      "Cell \u001b[1;32mIn[16], line 4\u001b[0m\n\u001b[0;32m      2\u001b[0m some_dist \u001b[38;5;241m=\u001b[39m mean_image_squared_distances(some_data)\n\u001b[0;32m      3\u001b[0m some_pcoa \u001b[38;5;241m=\u001b[39m PCoA(some_dist, r\u001b[38;5;241m=\u001b[39m\u001b[38;5;241m2\u001b[39m)\n\u001b[1;32m----> 4\u001b[0m \u001b[38;5;28;01massert\u001b[39;00m np\u001b[38;5;241m.\u001b[39marray_equal(some_pcoa\u001b[38;5;241m.\u001b[39mround(\u001b[38;5;241m3\u001b[39m), np\u001b[38;5;241m.\u001b[39marray([[\u001b[38;5;241m-\u001b[39m\u001b[38;5;241m1.974\u001b[39m,  \u001b[38;5;241m0.421\u001b[39m],\n\u001b[0;32m      5\u001b[0m                                                     [\u001b[38;5;241m-\u001b[39m\u001b[38;5;241m1.285\u001b[39m, \u001b[38;5;241m-\u001b[39m\u001b[38;5;241m0.646\u001b[39m],\n\u001b[0;32m      6\u001b[0m                                                     [ \u001b[38;5;241m1.98\u001b[39m , \u001b[38;5;241m-\u001b[39m\u001b[38;5;241m1.137\u001b[39m],\n\u001b[0;32m      7\u001b[0m                                                     [\u001b[38;5;241m-\u001b[39m\u001b[38;5;241m0.091\u001b[39m, \u001b[38;5;241m-\u001b[39m\u001b[38;5;241m0.266\u001b[39m],\n\u001b[0;32m      8\u001b[0m                                                     [ \u001b[38;5;241m1.369\u001b[39m,  \u001b[38;5;241m1.628\u001b[39m]]))\n\u001b[0;32m     10\u001b[0m \u001b[38;5;66;03m# Checking against the pre-computed test database\u001b[39;00m\n\u001b[0;32m     11\u001b[0m test_results \u001b[38;5;241m=\u001b[39m test_case_checker(\u001b[38;5;28;01mlambda\u001b[39;00m \u001b[38;5;241m*\u001b[39margs, \u001b[38;5;241m*\u001b[39m\u001b[38;5;241m*\u001b[39mkwargs: PCoA(\u001b[38;5;241m*\u001b[39margs, \u001b[38;5;241m*\u001b[39m\u001b[38;5;241m*\u001b[39mkwargs)\u001b[38;5;241m.\u001b[39mastype(np\u001b[38;5;241m.\u001b[39mcomplex128), task_id\u001b[38;5;241m=\u001b[39m\u001b[38;5;241m3\u001b[39m)\n",
      "\u001b[1;31mAssertionError\u001b[0m: "
     ]
    }
   ],
   "source": [
    "some_data = ((np.arange(35).reshape(5,7) ** 13) % 20) / 7.\n",
    "some_dist = mean_image_squared_distances(some_data)\n",
    "some_pcoa = PCoA(some_dist, r=2)\n",
    "assert np.array_equal(some_pcoa.round(3), np.array([[-1.974,  0.421],\n",
    "                                                    [-1.285, -0.646],\n",
    "                                                    [ 1.98 , -1.137],\n",
    "                                                    [-0.091, -0.266],\n",
    "                                                    [ 1.369,  1.628]]))\n",
    "\n",
    "# Checking against the pre-computed test database\n",
    "test_results = test_case_checker(lambda *args, **kwargs: PCoA(*args, **kwargs).astype(np.complex128), task_id=3)\n",
    "assert test_results['passed'], test_results['message']"
   ]
  },
  {
   "cell_type": "code",
   "execution_count": null,
   "metadata": {
    "deletable": false,
    "editable": false,
    "nbgrader": {
     "cell_type": "code",
     "checksum": "9cce4b0d98cba738ff2e6656e3a707dd",
     "grade": false,
     "grade_id": "cell-766bbb58398e819c",
     "locked": true,
     "schema_version": 3,
     "solution": false,
     "task": false
    }
   },
   "outputs": [],
   "source": [
    "if perform_computation:\n",
    "    SquaredDistances = mean_image_squared_distances(class_means)\n",
    "    VT = PCoA(SquaredDistances, r=2)"
   ]
  },
  {
   "cell_type": "code",
   "execution_count": null,
   "metadata": {
    "deletable": false,
    "editable": false,
    "nbgrader": {
     "cell_type": "code",
     "checksum": "7f88517b3f6be22f328ab13f7df4e74f",
     "grade": false,
     "grade_id": "cell-5195a280674f8907",
     "locked": true,
     "schema_version": 3,
     "solution": false,
     "task": false
    }
   },
   "outputs": [
    {
     "data": {
      "image/png": "[encoded data removed]",
      "text/plain": [
       "<Figure size 1080x720 with 1 Axes>"
      ]
     },
     "metadata": {},
     "output_type": "display_data"
    }
   ],
   "source": [
    "if perform_computation:\n",
    "    class_names_list = sorted(list(class_to_idx.keys()))\n",
    "    fig, ax = plt.subplots(figsize=(9,6.), dpi=120)\n",
    "    x_components = VT[:,0]\n",
    "    y_components = VT[:,1]\n",
    "    sns.regplot(x=x_components, y=y_components, fit_reg=False, marker=\"*\", color=\"Blue\", ax=ax)\n",
    "    for class_idx in range(VT.shape[0]):\n",
    "        num_letters = len(class_names_list[class_idx])\n",
    "        ax.text(x_components[class_idx]-num_letters*15, y_components[class_idx]+25, \n",
    "                class_names_list[class_idx].capitalize(), \n",
    "                horizontalalignment='left', size='medium', color='black', weight='semibold')\n",
    "    ax.set_xlabel('Reconstructed Dimension 1')\n",
    "    ax.set_ylabel('Reconstructed Dimension 2')\n",
    "    _ = ax.set_title('PCoA on Mean CIFAR-10 Images')"
   ]
  },
  {
   "cell_type": "markdown",
   "metadata": {
    "deletable": false,
    "editable": false,
    "nbgrader": {
     "cell_type": "markdown",
     "checksum": "0553a100f41debb5f6b51108960eb647",
     "grade": false,
     "grade_id": "cell-e13c41e92aeef5c8",
     "locked": true,
     "schema_version": 3,
     "solution": false,
     "task": false
    }
   },
   "source": [
    "# 3. Generalized PCoA with Non-Metric Similarities"
   ]
  },
  {
   "cell_type": "markdown",
   "metadata": {
    "deletable": false,
    "editable": false,
    "nbgrader": {
     "cell_type": "markdown",
     "checksum": "0cf14a5691aa984827c9b43ec30a850c",
     "grade": false,
     "grade_id": "cell-45073e77364cb6b2",
     "locked": true,
     "schema_version": 3,
     "solution": false,
     "task": false
    }
   },
   "source": [
    "# <span style=\"color:blue\">Task 4</span>"
   ]
  },
  {
   "cell_type": "markdown",
   "metadata": {
    "deletable": false,
    "editable": false,
    "nbgrader": {
     "cell_type": "markdown",
     "checksum": "465767a5cfa51de198f4d0ad506b6f59",
     "grade": false,
     "grade_id": "cell-6c1b006486a031c6",
     "locked": true,
     "schema_version": 3,
     "solution": false,
     "task": false
    }
   },
   "source": [
    "Write a function `principal_components_precise_svd` that returns the principal components of a data matrix and takes the following arguments as input\n",
    "\n",
    "1. `data_raw`: a numpy array with the shape $(N, \\cdots)$, where $N$ is the number of samples, and there may be many excess dimensions denoted by $\\cdots$. You will have to reshape this input `data_raw` matrix to obtain a shape of $(N, d)$, where $d$ is the vectorized data's dimension. For example, `data_raw` could have an input shape of `(6000, 50, 50, 3)`. In this case you will have to reshape the input data to have a shape of `(6000, 7500)`.\n",
    "2. `num_components`: This is the number of PCA components that we want to retain. This variable is denoted by $r$ in the PCA definition in the textbook.\n",
    "\n",
    "and returns the variable `V_x` which is a numpy array with the shape `(d, num_components)`. The columns are the unitay principal components sorted descendingly with respect to the eigenvalues.\n",
    "\n",
    "**Important Note**: **Do not** try to recover the covariance matrix $\\Sigma$ and then find its eigenvalues. This can prove to be both inefficient and unnecessary. As the theoretical review before the first task concluded, **There is no need to compute the covariance matrix $\\Sigma$**. Instead, all you need to do is to find the SVD of the data matrix, and extract the principal components from it.\n",
    "\n",
    "**Important Note**: Do not use any matrix factorization function other than `np.linalg.svd` for this task; incorporating any other matrix factorization function (such as `np.linalg.eig`) may not be compatible with the results we expect and may even be inefficient."
   ]
  },
  {
   "cell_type": "code",
   "execution_count": null,
   "metadata": {
    "deletable": false,
    "nbgrader": {
     "cell_type": "code",
     "checksum": "a0d7a7e6af825e207cebbe5b327dca67",
     "grade": false,
     "grade_id": "cell-38ccdb496ce94533",
     "locked": false,
     "schema_version": 3,
     "solution": true,
     "task": false
    }
   },
   "outputs": [],
   "source": [
    "def principal_components_precise_svd(data_raw, num_components=20):\n",
    "    \n",
    "    # YOUR CODE HERE\n",
    "    N = data_raw.shape[0]\n",
    "    d = np.prod(data_raw.shape[1:])\n",
    "    data_reshaped = data_raw.reshape(N, d)\n",
    "    \n",
    "    data_centered = data_reshaped - np.mean(data_reshaped, axis=0)\n",
    "    \n",
    "    U, S, Vt = np.linalg.svd(data_centered, full_matrices=False)\n",
    "    \n",
    "    V_x = Vt[:num_components].T  \n",
    "    \n",
    "    assert V_x.ndim==2\n",
    "    sign_unambiguity = np.sign(V_x[np.abs(V_x).argmax(axis=0), np.arange(V_x.shape[1])]).reshape(1,-1)\n",
    "    V_x *= sign_unambiguity\n",
    "    return V_x"
   ]
  },
  {
   "cell_type": "code",
   "execution_count": null,
   "metadata": {
    "deletable": false,
    "editable": false,
    "nbgrader": {
     "cell_type": "code",
     "checksum": "98de5bc6ab76430f9d73020a09da1bfd",
     "grade": true,
     "grade_id": "cell-64b9940549a5aa49",
     "locked": true,
     "points": 1,
     "schema_version": 3,
     "solution": false,
     "task": false
    }
   },
   "outputs": [],
   "source": [
    "some_data = (np.arange(35).reshape(5,7) ** 13) % 20\n",
    "some_pcs = principal_components_precise_svd(some_data, num_components=2)\n",
    "assert np.array_equal(some_pcs.round(3), np.array([[-0.123, -0.114],\n",
    "                                                   [-0.43 ,  0.119],\n",
    "                                                   [-0.021,  0.41 ],\n",
    "                                                   [-0.603, -0.164],\n",
    "                                                   [ 0.084,  0.491],\n",
    "                                                   [-0.223,  0.724],\n",
    "                                                   [ 0.616,  0.109]]))\n",
    "\n",
    "# Checking against the pre-computed test database\n",
    "test_results = test_case_checker(principal_components_precise_svd, task_id=4)\n",
    "assert test_results['passed'], test_results['message']"
   ]
  },
  {
   "cell_type": "markdown",
   "metadata": {
    "deletable": false,
    "editable": false,
    "nbgrader": {
     "cell_type": "markdown",
     "checksum": "5ccd42490e1b1d2e2134d21e1418189d",
     "grade": false,
     "grade_id": "cell-03e5fd29334d0960",
     "locked": true,
     "schema_version": 3,
     "solution": false,
     "task": false
    }
   },
   "source": [
    "The following cell will run your `principal_components_precise_svd` function on a single class of data, and provide you with some running time estimate."
   ]
  },
  {
   "cell_type": "code",
   "execution_count": null,
   "metadata": {
    "deletable": false,
    "editable": false,
    "nbgrader": {
     "cell_type": "code",
     "checksum": "cc1e48a9274859c2c3cfac79dd328a02",
     "grade": false,
     "grade_id": "cell-ad1a7abeaa5e7889",
     "locked": true,
     "schema_version": 3,
     "solution": false,
     "task": false
    }
   },
   "outputs": [
    {
     "name": "stdout",
     "output_type": "stream",
     "text": [
      "Finding the principal components on a single class took 32.917 seconds.\n"
     ]
    }
   ],
   "source": [
    "if perform_computation:\n",
    "    first_class_features = images_raw[labels == 0, :, :, :]\n",
    "\n",
    "    starting_time = time.time()\n",
    "    first_class_pcs = principal_components_precise_svd(first_class_features, num_components=20)\n",
    "    end_time = time.time()\n",
    "    \n",
    "    print('Finding the principal components on a single class took %.3f seconds.'%(end_time-starting_time))"
   ]
  },
  {
   "cell_type": "markdown",
   "metadata": {
    "deletable": false,
    "editable": false,
    "nbgrader": {
     "cell_type": "markdown",
     "checksum": "5390f424cdf840740cb5439eda830fe5",
     "grade": false,
     "grade_id": "cell-3cf56b1cf2ee6d60",
     "locked": true,
     "schema_version": 3,
     "solution": false,
     "task": false
    }
   },
   "source": [
    "Although, this performance is extremely hardware-dependent, it's certainly not negligible. Keep in mind that we will have to run this function about 100 times on data of the same size to construct a similarity matrix in later tasks; any speedup may very well be appreciated.\n",
    "\n",
    "Most of the computation time in the previous task was spent on the SVD factorization. Essentially, we found all the singular values and directions, ignored most of them, and only kept the top 20. This can be a very good place to start saving on computation; if only there was an SVD variant which you could tell in advance that you're only interested in the top 20 components, so that it wouldn't waste your time computing non-important singular values and directions...\n",
    "\n",
    "**Spoiler Alert**: Such an efficient SVD variant exists, and sometimes is referred to as the \"Truncated SVD\" in application. Next task will be a redo of the previous task using this fast factroization."
   ]
  },
  {
   "cell_type": "markdown",
   "metadata": {
    "deletable": false,
    "editable": false,
    "nbgrader": {
     "cell_type": "markdown",
     "checksum": "d9950a0005c770806048c31ccd41b4a3",
     "grade": false,
     "grade_id": "cell-92ea31a8dd5fac86",
     "locked": true,
     "schema_version": 3,
     "solution": false,
     "task": false
    }
   },
   "source": [
    "# <span style=\"color:blue\">Task 5</span>"
   ]
  },
  {
   "cell_type": "markdown",
   "metadata": {
    "deletable": false,
    "editable": false,
    "nbgrader": {
     "cell_type": "markdown",
     "checksum": "8cd34016864ebbf1ca6937a1dd3b7889",
     "grade": false,
     "grade_id": "cell-6f00c2432ef3c598",
     "locked": true,
     "schema_version": 3,
     "solution": false,
     "task": false
    }
   },
   "source": [
    "Similar to `principal_components_precise_svd`, write a function `principal_components` that uses `scikit-learn`'s `TruncatedSVD` decomposition instead of the precise `np.linalg.svd` decomposition that was used in the previous task. As in the previous task, `principal_components` should return the principal components of a data matrix and take the following arguments as input\n",
    "\n",
    "1. `data_raw`: a numpy array with the shape $(N, \\cdots)$, where $N$ is the number of samples, and there may be many excess dimensions denoted by $\\cdots$. You will have to reshape this input `data_raw` matrix to obtain a shape of $(N, d)$, where $d$ is the vectorized data's dimension. For example, `data_raw` could have an input shape of `(6000, 50, 50, 3)`. In this case you will have to reshape the input data to have a shape of `(6000, 7500)`.\n",
    "2. `num_components`: This is the number of PCA components that we want to retain. This variable is denoted by $r$ in the PCA definition in the textbook.\n",
    "\n",
    "`principal_components` should return the variable `V_x` which is a numpy array with the shape `(d, num_components)`. The columns are the unitay principal components sorted descendingly with respect to the eigenvalues.\n",
    "\n",
    "**Important Note**: You should only use `scikit-learn`'s `TruncatedSVD` decomposition for this task. You can read about this function at https://scikit-learn.org/stable/modules/generated/sklearn.decomposition.TruncatedSVD.html. \n",
    "\n",
    "  * You must use the `randomized` algorithm implementation as it is more efficient. \n",
    "  \n",
    "  * Since this heuristic is stochastic, you must provide `random_state=12345` as an input argument to this object's constructor for reproducibility. \n",
    "  \n",
    "  * Use exactly 5 iterations for this heuristic (i.e., specify `n_iter` to be exactly 5).\n",
    "\n",
    "**Important Note**: **Do not** try to recover the covariance matrix $\\Sigma$ and then find its eigenvalues. This can prove to be both inefficient and unnecessary. As the theoretical review before the first task concluded, **There is no need to compute the covariance matrix $\\Sigma$**. Instead, all you need to do is to find the SVD of the data matrix, and extract the principal components from it."
   ]
  },
  {
   "cell_type": "code",
   "execution_count": 1,
   "metadata": {
    "deletable": false,
    "nbgrader": {
     "cell_type": "code",
     "checksum": "6b2a49a3d9063ff5046f19cf0fc74358",
     "grade": false,
     "grade_id": "cell-b0607bd0ddd6fc47",
     "locked": false,
     "schema_version": 3,
     "solution": true,
     "task": false
    }
   },
   "outputs": [],
   "source": [
    "def principal_components(data_raw, num_components=20):\n",
    "    \n",
    "    # YOUR CODE HERE\n",
    "    N = data_raw.shape[0]\n",
    "    d = np.prod(data_raw.shape[1:])\n",
    "    data_flattened = data_raw.reshape(N, d)\n",
    "    \n",
    "    svd = TruncatedSVD(n_components=num_components, n_iter=5, random_state=12345, algorithm='randomized')\n",
    "    \n",
    "    svd.fit(data_flattened)\n",
    "    V_x = svd.components_.T \n",
    "\n",
    "    assert V_x.ndim==2\n",
    "    sign_unambiguity = np.sign(V_x[np.abs(V_x).argmax(axis=0), np.arange(V_x.shape[1])]).reshape(1,-1)\n",
    "    V_x *= sign_unambiguity\n",
    "    return V_x"
   ]
  },
  {
   "cell_type": "code",
   "execution_count": 24,
   "metadata": {
    "deletable": false,
    "editable": false,
    "nbgrader": {
     "cell_type": "code",
     "checksum": "010f77d70d4950a88a00ea7957f0e456",
     "grade": true,
     "grade_id": "cell-6e98fde20752df8c",
     "locked": true,
     "points": 1,
     "schema_version": 3,
     "solution": false,
     "task": false
    }
   },
   "outputs": [
    {
     "ename": "AssertionError",
     "evalue": "",
     "output_type": "error",
     "traceback": [
      "\u001b[1;31m---------------------------------------------------------------------------\u001b[0m",
      "\u001b[1;31mAssertionError\u001b[0m                            Traceback (most recent call last)",
      "Cell \u001b[1;32mIn[24], line 3\u001b[0m\n\u001b[0;32m      1\u001b[0m some_data \u001b[38;5;241m=\u001b[39m (np\u001b[38;5;241m.\u001b[39marange(\u001b[38;5;241m35\u001b[39m)\u001b[38;5;241m.\u001b[39mreshape(\u001b[38;5;241m5\u001b[39m,\u001b[38;5;241m7\u001b[39m) \u001b[38;5;241m*\u001b[39m\u001b[38;5;241m*\u001b[39m \u001b[38;5;241m13\u001b[39m) \u001b[38;5;241m%\u001b[39m \u001b[38;5;241m20\u001b[39m\n\u001b[0;32m      2\u001b[0m some_pcs \u001b[38;5;241m=\u001b[39m principal_components(some_data, num_components\u001b[38;5;241m=\u001b[39m\u001b[38;5;241m2\u001b[39m)\n\u001b[1;32m----> 3\u001b[0m \u001b[38;5;28;01massert\u001b[39;00m np\u001b[38;5;241m.\u001b[39marray_equal(some_pcs\u001b[38;5;241m.\u001b[39mround(\u001b[38;5;241m3\u001b[39m), np\u001b[38;5;241m.\u001b[39marray([[\u001b[38;5;241m-\u001b[39m\u001b[38;5;241m0.123\u001b[39m, \u001b[38;5;241m-\u001b[39m\u001b[38;5;241m0.114\u001b[39m],\n\u001b[0;32m      4\u001b[0m                                                    [\u001b[38;5;241m-\u001b[39m\u001b[38;5;241m0.43\u001b[39m ,  \u001b[38;5;241m0.119\u001b[39m],\n\u001b[0;32m      5\u001b[0m                                                    [\u001b[38;5;241m-\u001b[39m\u001b[38;5;241m0.021\u001b[39m,  \u001b[38;5;241m0.41\u001b[39m ],\n\u001b[0;32m      6\u001b[0m                                                    [\u001b[38;5;241m-\u001b[39m\u001b[38;5;241m0.603\u001b[39m, \u001b[38;5;241m-\u001b[39m\u001b[38;5;241m0.164\u001b[39m],\n\u001b[0;32m      7\u001b[0m                                                    [ \u001b[38;5;241m0.084\u001b[39m,  \u001b[38;5;241m0.491\u001b[39m],\n\u001b[0;32m      8\u001b[0m                                                    [\u001b[38;5;241m-\u001b[39m\u001b[38;5;241m0.223\u001b[39m,  \u001b[38;5;241m0.724\u001b[39m],\n\u001b[0;32m      9\u001b[0m                                                    [ \u001b[38;5;241m0.616\u001b[39m,  \u001b[38;5;241m0.109\u001b[39m]]))\n\u001b[0;32m     11\u001b[0m \u001b[38;5;66;03m# Checking against the pre-computed test database\u001b[39;00m\n\u001b[0;32m     12\u001b[0m test_results \u001b[38;5;241m=\u001b[39m test_case_checker(principal_components, task_id\u001b[38;5;241m=\u001b[39m\u001b[38;5;241m5\u001b[39m)\n",
      "\u001b[1;31mAssertionError\u001b[0m: "
     ]
    }
   ],
   "source": [
    "some_data = (np.arange(35).reshape(5,7) ** 13) % 20\n",
    "some_pcs = principal_components(some_data, num_components=2)\n",
    "assert np.array_equal(some_pcs.round(3), np.array([[-0.123, -0.114],\n",
    "                                                   [-0.43 ,  0.119],\n",
    "                                                   [-0.021,  0.41 ],\n",
    "                                                   [-0.603, -0.164],\n",
    "                                                   [ 0.084,  0.491],\n",
    "                                                   [-0.223,  0.724],\n",
    "                                                   [ 0.616,  0.109]]))\n",
    "\n",
    "# Checking against the pre-computed test database\n",
    "test_results = test_case_checker(principal_components, task_id=5)\n",
    "assert test_results['passed'], test_results['message']\n",
    "\n"
   ]
  },
  {
   "cell_type": "code",
   "execution_count": 25,
   "metadata": {
    "deletable": false,
    "editable": false,
    "nbgrader": {
     "cell_type": "code",
     "checksum": "4984b26a80b62f01306b0e0dc1fece52",
     "grade": false,
     "grade_id": "cell-dfdb7e15c255b595",
     "locked": true,
     "schema_version": 3,
     "solution": false,
     "task": false
    }
   },
   "outputs": [
    {
     "name": "stdout",
     "output_type": "stream",
     "text": [
      "Finding the principal components on a single class took 2.349 seconds.\n"
     ]
    }
   ],
   "source": [
    "if perform_computation:\n",
    "    first_class_features = images_raw[labels == 0, :, :, :]\n",
    "\n",
    "    starting_time = time.time()\n",
    "    first_class_pcs = principal_components(first_class_features, num_components=20)\n",
    "    end_time = time.time()\n",
    "    \n",
    "    print('Finding the principal components on a single class took %.3f seconds.'%(end_time-starting_time))"
   ]
  },
  {
   "cell_type": "markdown",
   "metadata": {
    "deletable": false,
    "editable": false,
    "nbgrader": {
     "cell_type": "markdown",
     "checksum": "67801bee38ccbd26a55a791ef013dd77",
     "grade": false,
     "grade_id": "cell-f84fa9de42efe575",
     "locked": true,
     "schema_version": 3,
     "solution": false,
     "task": false
    }
   },
   "source": [
    "Using this `principal_components` function, and the `images_raw` array, you could reconstruct an arbitrary image using a small number of components, see the effect of the number of components on the reconstructed image's quality, and share your results on Piazza!"
   ]
  },
  {
   "cell_type": "markdown",
   "metadata": {
    "deletable": false,
    "editable": false,
    "nbgrader": {
     "cell_type": "markdown",
     "checksum": "ba0ba39a91dc34f0914b34fff5c801c7",
     "grade": false,
     "grade_id": "cell-b16bc6406faa0e40",
     "locked": true,
     "schema_version": 3,
     "solution": false,
     "task": false
    }
   },
   "source": [
    "# <span style=\"color:blue\">Task 6</span>"
   ]
  },
  {
   "cell_type": "markdown",
   "metadata": {
    "deletable": false,
    "editable": false,
    "nbgrader": {
     "cell_type": "markdown",
     "checksum": "2fcfad296d8991ec540097c118d07cdc",
     "grade": false,
     "grade_id": "cell-f28109df1d337200",
     "locked": true,
     "schema_version": 3,
     "solution": false,
     "task": false
    }
   },
   "source": [
    "Write the function `E_A_given_B` that computes the $E[A|B]$ and takes the two matrices `class_A_data` and `class_B_data`. \n",
    "\n",
    "1. `class_A_data` is a numpy arrays with the shape $(N, \\cdots)$, where $N$ is the number of samples, and there may be many excess dimensions denoted by $\\cdots$. You will have to reshape this input matrix to obtain a shape of $(N, d)$, where $d$ is the vectorized data's dimension.\n",
    "2. `class_B_data` has the same data structure as `class_A_data`.\n",
    "\n",
    "To compute $E[A|B]$:\n",
    "1. First, do whatever reshaping you have to do.\n",
    "2. Subtract Class A's mean from its data\n",
    "3. Use the `principal_components` function you wrote before to extract the 20 principal components of `class_B_data`.\n",
    "4. Project Class A's data onto the mentioned principal components and get back to the original space.\n",
    "5. Compute Class A's residuals (i.e., the difference between the original and the projection).\n",
    "5. Find the squared residual sizes **for each sample**, and then return their mean as the `E_A_cond_B` scalar. In other words, square class A's residuals, sum them over each sample (which should reduce the squared residual matrix to only $N$ elements), and then report the mean of them as `E_A_cond_B`."
   ]
  },
  {
   "cell_type": "code",
   "execution_count": 26,
   "metadata": {
    "deletable": false,
    "nbgrader": {
     "cell_type": "code",
     "checksum": "3f1c32ac63a4d97e45f21ae44fe8a489",
     "grade": false,
     "grade_id": "cell-ecf0ec8d075f35c3",
     "locked": false,
     "schema_version": 3,
     "solution": true,
     "task": false
    }
   },
   "outputs": [],
   "source": [
    "def E_A_given_B(class_A_data, class_B_data):\n",
    "    \n",
    "    # YOUR CODE HERE\n",
    "    N_A = class_A_data.shape[0]\n",
    "    d_A = np.prod(class_A_data.shape[1:])\n",
    "    A_data_reshaped = class_A_data.reshape(N_A, d_A)\n",
    "    \n",
    "    N_B = class_B_data.shape[0]\n",
    "    d_B = np.prod(class_B_data.shape[1:])\n",
    "    B_data_reshaped = class_B_data.reshape(N_B, d_B)\n",
    "    \n",
    "    A_mean = np.mean(A_data_reshaped, axis=0)\n",
    "    A_centered = A_data_reshaped - A_mean\n",
    "    \n",
    "    from sklearn.decomposition import TruncatedSVD\n",
    "    svd = TruncatedSVD(n_components=20, algorithm='randomized', n_iter=5, random_state=12345)\n",
    "    svd.fit(B_data_reshaped)\n",
    "    B_principal_components = svd.components_.T \n",
    "\n",
    "    A_projected = A_centered @ B_principal_components @ B_principal_components.T  \n",
    "    \n",
    "    residuals = A_centered - A_projected  \n",
    "    \n",
    "    squared_residuals = np.sum(residuals ** 2, axis=1)\n",
    "    E_A_cond_B = np.mean(squared_residuals)\n",
    "    \n",
    "    return E_A_cond_B"
   ]
  },
  {
   "cell_type": "code",
   "execution_count": 27,
   "metadata": {
    "deletable": false,
    "editable": false,
    "nbgrader": {
     "cell_type": "code",
     "checksum": "8b193733b09b6ad0af9a48dea4f0309a",
     "grade": true,
     "grade_id": "cell-2237ce73129524a8",
     "locked": true,
     "points": 1,
     "schema_version": 3,
     "solution": false,
     "task": false
    }
   },
   "outputs": [
    {
     "ename": "AssertionError",
     "evalue": "\nError in task 6: Your solution is not the same as the correct solution.\n    your_solution=15339.82334989751\n    correct_solution=14289.08500399769\n----------\nFollowing are the test case arguments that were used to help you diagnose the issue.\nEach argument will be printed on a separate line: \n\n\nNote:\n  * If the data input is too large, it might get truncated and you might not see the whole arguments in the printed message.\n  * If the input had high-precision numbers, the printing precision may not be enough to reproduce the same exact output.\n In these cases, you should follow the instructions below (i.e., the alternative approach section).\n\n\n\nclass_A_data=np.array([[ 1.45083552e+02,  9.80820117e+01, -1.34275394e+01,\n        -2.17072232e+01, -1.83425669e+01, -4.12217073e+01,\n         1.78265525e+02,  7.04301711e+00,  1.41011708e+02,\n         2.64587595e+02,  2.48554107e+02,  4.62761486e+01,\n         2.95476038e+02,  2.71613241e+02,  2.69786165e+02,\n         2.01106117e+02,  2.52036525e+02,  1.71159643e+02,\n         2.69624212e+02,  1.04790421e+02, -3.20095929e+01,\n         4.61040337e+01],\n       [-4.65175973e+01, -2.41272109e+01,  2.77774234e+02,\n        -4.08768915e+01, -3.53960903e+01,  2.50412732e+02,\n        -1.38638347e+01, -3.01468922e+01,  1.32593662e+01,\n         2.27567951e+02,  2.18258486e+02,  6.12128637e+01,\n         1.69410531e+01, -9.22436682e+00,  5.82657725e+01,\n         2.95024636e+02,  2.10656261e+02,  1.23402223e+02,\n         2.06173876e+02,  2.63796002e+02, -2.56554057e+01,\n         2.94857922e+02],\n       [-4.40728199e+01,  9.51289824e+01,  9.55090737e+01,\n         1.08415464e+02,  2.54941016e+02,  1.32630089e+02,\n        -4.78484214e+01,  3.34060694e+01, -3.24623545e+01,\n         4.33093328e+01,  8.97818704e+01,  9.05357816e+01,\n        -3.52682247e+01,  1.37710138e+02,  4.84021502e+01,\n         2.98012841e+02, -2.67731812e+01,  2.30189312e+02,\n         2.66275186e+02,  5.66646550e+01,  1.24245606e+02,\n         2.74111923e+02],\n       [-2.44657040e+01,  2.11048625e+02, -2.64591589e+01,\n         2.58770459e+02, -3.99756236e+01,  3.47368999e+01,\n         3.85787267e+01,  2.29529534e+02,  2.03233869e+02,\n         2.25705616e+02,  2.11621553e+02,  2.89131670e+02,\n         1.93263302e+02,  2.69256954e+02,  4.45097807e+01,\n         2.87207313e+00, -2.43734728e+01,  1.39353206e+02,\n         2.88113895e+02,  1.01612769e+02,  1.12225797e+02,\n        -4.29059461e+01],\n       [ 2.37634779e+02,  2.98792842e+01,  2.95533839e+02,\n         6.46868826e+01,  1.31384402e+02,  1.26331491e+02,\n         8.92510182e+01,  2.22398251e+02,  1.81357688e+02,\n         9.02852842e+01,  2.08103562e+01,  1.58129943e+02,\n         1.85345676e+02,  1.87322994e+02, -1.55897941e+01,\n        -3.57835028e+00,  2.85400205e+02,  7.69004035e+01,\n         1.91426988e+02,  2.52373937e+02,  2.63566453e+02,\n         1.64981713e+02],\n       [ 1.58721228e+02,  1.89080001e+02, -2.35091023e+01,\n         1.50698172e+02,  2.29750399e+02,  1.74078478e+02,\n         5.67000154e+01,  1.41517006e+02,  1.14095895e+02,\n         1.58272872e+02,  2.08770214e+02,  1.70753843e+02,\n         2.21675964e+02,  6.30980313e+01,  7.85329111e+00,\n         2.49789687e+02,  1.12335689e+02,  2.58676885e+02,\n         2.76459468e+02,  1.75399422e+02,  2.60612169e+02,\n         2.06372439e+02],\n       [ 1.34033988e+02,  2.64657326e+02,  2.22093646e+02,\n         1.81016726e+02,  1.02241956e+02,  1.93291614e+01,\n         2.50570373e+02,  1.40115292e+02,  1.89092667e+02,\n         2.14683093e+02,  1.89338872e+02,  7.27144302e+01,\n         2.94979456e+02,  1.70545568e+02,  1.18865194e+02,\n         1.66125474e+02,  2.45329027e+02, -4.17305924e+01,\n         2.66585139e+02, -1.78289663e+01,  7.74060681e+01,\n         2.14851949e+01],\n       [ 1.11985176e+01,  1.47520203e+02, -4.77684947e+01,\n         2.84775836e+02,  1.38951312e+02, -1.74412818e+01,\n        -3.10473635e+01,  1.92061546e+01,  2.67412173e+02,\n         4.83420298e+01, -2.94037690e+01, -4.79273422e+01,\n         9.82197542e+01,  1.69107246e+02,  2.13071450e+02,\n         2.31609645e+02,  1.76704487e+02,  6.18775711e+01,\n         2.07253494e+02,  2.39981014e+02, -3.50766965e+01,\n         1.42915402e+02],\n       [-1.15468561e+01,  2.74950403e+02, -3.58298988e+01,\n         1.97967710e+02,  1.12343775e+02,  1.04863268e+02,\n        -2.77781101e+01, -2.68732107e+01,  7.20955187e+01,\n         2.62013129e+02,  7.75751966e+01,  9.19537884e+01,\n         1.19343612e+02, -2.83873472e+01,  2.92461620e+02,\n         2.45412025e+02,  5.77315118e+01,  1.93635256e+02,\n         2.83242270e+02,  1.76319079e+02,  2.86073546e+02,\n         2.42555330e+02],\n       [ 2.62235731e+02,  8.41482327e-01, -1.91166135e+01,\n         1.42969986e+02,  1.75589070e+02,  7.13537071e+01,\n         1.70759575e+02, -2.19740980e+01,  7.34665773e+01,\n         2.85149261e+02,  2.90023776e+02,  1.93372765e+02,\n         1.38491870e+02,  6.81776570e+01,  7.59264693e+01,\n         2.57148928e+02,  1.92785666e+02,  2.05734456e+02,\n        -1.30466791e+01,  1.62474507e+02,  2.70179905e+02,\n         1.92564240e+02],\n       [ 8.97289318e+01, -1.28660185e+01,  2.71056007e+02,\n         2.54835624e+02,  1.44168133e+02, -9.09633945e+00,\n         2.61689225e+02,  1.19348632e+02,  8.67752311e+01,\n         2.68148841e+02,  5.54744877e+01,  2.42693337e+02,\n         2.81996169e+02,  2.56476824e+02,  2.08981685e+02,\n         1.56445257e+00,  1.78696497e+02,  2.64974367e+02,\n         1.92799877e+02,  4.09788383e+01,  2.79120756e+02,\n        -3.27486604e+01],\n       [ 1.78300979e+02,  5.41431587e+01, -1.94927355e+01,\n        -2.83502944e+01,  1.81496309e+02,  8.11860894e+01,\n         4.19154399e+01,  2.22656527e+02,  2.94949915e+02,\n         2.92563834e+02,  2.14012619e+02, -2.90404537e+01,\n         6.01843928e-01,  2.94868963e+02, -3.58278586e-01,\n         1.71243735e+01,  2.17588366e+02,  6.77343476e+01,\n         2.44911081e+01,  2.10234351e+02,  6.38700996e+01,\n         1.43726346e+02],\n       [ 1.96167734e+02,  1.58770807e+02,  2.75433963e+01,\n         1.63574402e+02,  1.95150903e+02,  1.58606485e+01,\n         2.67499238e+02,  2.61344015e+02,  2.86319986e+02,\n         1.71095505e+02,  1.79384268e+02,  1.20721579e+02,\n         2.27060743e+02, -5.97346500e-01,  1.72915718e+02,\n         2.88788812e+02, -4.79082634e+01,  7.40618534e+01,\n         4.44460344e+01,  2.14885676e+02,  2.31762126e+01,\n         8.69153644e+01],\n       [ 2.63678974e+02, -1.94974383e+01,  1.23518926e+02,\n         4.37975870e+01,  1.93122103e+02,  1.20323909e+00,\n         6.45421774e+01,  4.82311348e+01,  1.12159441e+02,\n         4.37451557e+00,  2.13999041e+02,  1.73132750e+02,\n        -1.19225011e+01,  8.88521553e+01,  2.44344439e+02,\n         4.04208040e-01, -1.56343147e+01,  2.79613561e+02,\n         1.61886063e+02,  1.73228744e+02, -2.66000100e+01,\n         3.49535888e+01],\n       [ 2.48259908e+02,  1.98397890e+02,  1.54148949e+02,\n         2.08923122e+02,  1.29512054e+00, -1.34250293e-01,\n         1.47775355e+02,  1.60441010e+02,  1.96236611e+02,\n         3.13471818e+01, -3.05785557e+01,  1.16211482e+02,\n         1.38808911e+02,  1.85841045e+02,  2.91332994e+02,\n         1.64362428e+02,  2.33367225e+02,  2.66582236e+02,\n         2.94424123e+02, -1.00048144e+01, -2.62579143e+01,\n         2.94191202e+02],\n       [ 2.99878909e+02, -1.17492615e+01,  9.77129904e+01,\n         1.62950080e+02, -4.63069919e+01,  2.34133457e+02,\n        -1.24109768e+01,  1.13489328e+02,  2.77383604e+02,\n         2.95877861e+02,  1.81263505e+02, -2.38733547e+01,\n         1.09393527e+02, -2.30073580e+01,  1.39809822e+02,\n         1.09253668e+02,  1.56262493e+02,  1.34505000e+02,\n         5.41166370e+01,  1.98087364e+02, -3.79727461e+00,\n         2.79550517e+02],\n       [ 7.25255445e+00,  2.96954928e+02,  1.33465927e+02,\n         5.46501152e+01,  2.93217883e+02,  2.63351271e+02,\n         1.60707257e+02, -2.38129840e+00,  7.21997359e+00,\n         1.10652725e+02,  2.55086329e+02,  1.46982795e+02,\n         2.84607383e+02,  2.16386516e+02, -5.28765206e+00,\n         1.05317997e+01,  2.94356345e+00,  8.80266116e+01,\n         1.50705590e+02,  1.25599731e+02, -3.27281964e+01,\n         6.36993565e+01],\n       [ 5.19235091e+01,  9.19197168e+01,  5.30002637e+01,\n         6.15280120e+01,  9.85016852e+01,  1.57870521e+01,\n         1.23522925e+02, -5.47285118e+00,  5.32228302e+01,\n        -3.93716838e+01,  2.37256611e+02,  7.98793023e+01,\n         1.67327192e+02,  4.42804549e+01,  8.12302528e+01,\n         1.96672712e+02,  2.16243051e+02,  2.45068736e+02,\n         2.95065308e+01,  9.67518259e+01,  2.88529577e+00,\n         1.97144180e+02],\n       [ 2.10895766e+02,  1.21996447e+02, -1.21102431e+01,\n        -2.68542076e+01,  2.44296678e+02, -7.28829310e-01,\n         2.82068583e+02,  2.38927005e+02,  7.06904076e+01,\n        -2.98715309e+01,  2.88418929e+02,  1.35275315e+02,\n         2.08108256e+01,  1.20259302e+02,  2.13666934e+02,\n         5.08790344e+01,  1.28283558e+02,  2.74709146e+02,\n         1.38537062e+02, -9.35762390e+00,  1.75548134e+02,\n         4.23282195e+01],\n       [ 1.97286257e+02,  2.53473970e+02,  1.46591309e+02,\n         1.32848609e+02,  1.45108546e+02,  5.25596610e+01,\n         1.40431186e+02,  1.49497388e+02,  1.85444132e+02,\n         3.88294811e+01,  2.10985710e+02,  1.37121685e+02,\n         1.30196976e+01,  1.26192750e+02,  2.90086712e+02,\n         1.08791692e+02,  2.69789063e+02,  2.37796740e+02,\n         1.69436846e+02,  1.06482764e+01,  2.95198615e+02,\n         1.26908247e+02],\n       [ 5.44461595e-02,  2.99266070e+02,  3.32154034e+01,\n         1.33808810e+02,  1.49578278e+02,  2.22070128e+02,\n         2.98288911e+02,  1.78842953e+02,  3.66971692e+01,\n         1.65493205e+02, -1.51159668e+01,  1.59995356e+02,\n         1.48139150e+02,  2.51334249e+02,  1.70395893e+02,\n         2.17083922e+02,  6.99831338e+01,  1.65595802e+02,\n         2.82116450e+02, -3.85586864e+01,  4.80588206e+01,\n        -4.96137073e+01],\n       [ 2.55672933e+02,  8.35002784e+01,  3.19610935e+01,\n         2.15980203e+02,  2.51289505e+02,  4.53917411e+01,\n         1.82325140e+02,  1.34182099e+02,  1.90865742e+02,\n         7.94532043e+01,  1.51274613e+02,  1.68401572e+02,\n         1.09660331e+02,  7.05613605e+01,  6.26292664e+01,\n        -4.68160081e+01,  7.61517394e+01, -1.71037721e+01,\n         2.33683686e+02,  1.83080830e+02,  2.08404103e+02,\n         2.99805056e+02],\n       [ 1.70833630e+02,  1.70767337e+02,  2.90502606e+02,\n         2.26609262e+02,  9.23853094e+01,  2.93870482e+02,\n         1.93526007e+02, -4.78212964e+01,  1.58945100e+02,\n         2.70731448e+02,  9.68634993e+01,  7.98344860e+01,\n         4.48183659e+01,  7.10106194e+01, -2.60373691e+01,\n        -1.23330566e+01,  2.65149001e+02,  1.00356377e+02,\n         2.38690220e+02, -4.61181057e+00,  2.08845681e+02,\n         1.90261750e+02],\n       [ 2.06955845e+02,  4.97401199e+00,  2.63293680e+02,\n         1.98174800e+02,  1.58689798e+02,  2.67087685e+02,\n         1.38246957e+02, -4.34278940e+01,  7.35552037e+01,\n         9.00273309e+01,  2.25928351e+01,  4.04542389e+01,\n         8.39967823e+01, -2.66385174e+01,  1.04437866e+02,\n        -4.70131625e+01,  2.90608132e+02,  8.10933171e+01,\n         1.81079243e+02,  1.94665083e+02, -3.81217988e+01,\n         2.70981612e+02],\n       [ 1.00937746e+02,  2.19401608e+02,  2.51429701e+02,\n         3.38403881e+01,  5.67057739e+01,  6.50266623e+01,\n         1.59919106e+02,  6.20928504e+01,  1.04155779e+02,\n         1.81198570e+02,  1.51342392e+02, -3.93119570e+01,\n         1.90112400e+02, -2.34503122e+01,  3.38441558e+01,\n         2.57517221e+02,  1.98041474e+02,  5.77301693e+01,\n        -3.43337144e-02, -3.91792507e+01, -3.68070630e+00,\n         1.67005624e+02],\n       [ 2.87974122e+02,  2.07107978e+02,  2.54286817e+02,\n         8.25597903e+01,  1.39312308e+02, -2.46845719e+00,\n         1.63197418e+02,  2.35193594e+02,  1.07774830e+02,\n         1.71372661e+01,  1.75356227e+02, -2.49660178e+01,\n         3.59485854e+01, -1.83159188e-01, -5.79168653e+00,\n         1.51967295e+02,  2.83960059e+02,  1.77719396e+02,\n         1.79445569e+02,  2.20361535e+02,  7.67721499e+01,\n         1.59622324e+02],\n       [ 1.52462752e+02,  1.40730478e+02,  2.42984356e+02,\n         2.17488904e+02,  1.62467044e+02, -1.09746190e+01,\n         4.70578516e+01,  1.03774616e+02,  2.97581223e+02,\n         1.83765576e+02,  1.95342778e+02, -2.97416361e+01,\n         2.30865390e+02,  1.69848948e+02,  2.89041116e+02,\n         1.56524525e+02,  1.81894817e+02,  6.08883929e+01,\n         1.36276869e+02,  1.12503736e+02,  1.30042924e+02,\n         1.45299319e+02],\n       [-1.57777740e+01,  1.03786181e+01,  2.76682511e+02,\n         1.10317426e+02,  2.16939980e+02,  1.39879401e+02,\n        -1.21315958e+01,  9.86583237e+01, -2.02210095e+01,\n        -4.79690055e+01,  1.30165755e+02,  7.93890909e+01,\n         1.00910318e+02,  2.35685884e+02,  5.58877627e+00,\n         1.66464366e+02,  1.80415688e+02,  3.10269507e+01,\n         2.01179091e+02, -1.61213222e+01,  1.83628606e+02,\n         2.10755811e+02],\n       [ 2.89583632e+02,  2.66355929e+02,  2.50161902e+02,\n         2.64634082e+01,  1.90616452e+02, -4.10195999e+01,\n         2.52540216e+02, -1.83711799e+01,  2.51597276e+02,\n         2.22646123e+02,  1.71394394e+02,  1.21010636e+02,\n         9.26276848e+01,  2.41315709e+02, -1.25799721e+01,\n         8.67016634e+01,  2.32157378e+02,  2.09262885e+01,\n         3.75636023e+01,  3.81028948e+01,  1.86793284e+02,\n         3.16725772e+01]]),\nclass_B_data=np.array([[224.93003993, 225.62880828, 202.90526432, 286.85156577,\n        271.98756977,   3.31080561, 205.64235079, -48.54218897,\n        -49.98008742,  -4.11760809,  32.91629012, 223.53390338,\n        222.75296244,  53.77199452,  18.56056822,  21.2504404 ,\n        152.30787223,  -1.70594651, 277.73875624, 105.5090616 ,\n        286.93747765,   1.68608998],\n       [101.59924668, 275.027738  , -18.7711992 , 146.77503997,\n        181.4122368 ,  90.84310585, 255.58417621, -46.81425595,\n        -13.20170433,  47.7406638 ,  37.43694013, 230.61660027,\n         55.35722364, 166.31273092, 220.65118667, 137.52300912,\n        281.77267871, 196.51549637, 254.75379804, 127.94509282,\n          5.54903893, 154.83748919],\n       [114.86781562, 251.05739397, 188.18904363, 121.26490356,\n        205.79024735,  80.5086108 , -48.70414461, 170.34790182,\n        201.34030392, -34.00767285, 242.87997195, -17.95867357,\n         30.50314482, 133.66837046, 109.20802678,  38.1534146 ,\n        141.26232624, 252.78649218, 185.67644283, 144.04052337,\n        -14.84919055, 288.23251025],\n       [167.67020702, -17.71713667, 109.20797472, -28.60195403,\n        189.29131423, 284.99977064, 125.9263791 , 169.26640033,\n        -36.74197215, 215.11727262, 181.00945537, -35.30249878,\n        224.49937414, -47.75272019, 267.37325736, 220.11774388,\n        173.52971262,  45.60517003, 242.76563185,  34.87709341,\n         99.15850649,  15.04492233],\n       [ 84.74747361, 256.1420609 ,  10.59354025,  84.6318042 ,\n        150.37862618, 210.63512442, -44.66737772, 103.67275986,\n        -41.35479165, 201.44209464, 248.15502807, 142.97791522,\n        197.42442449, 236.81139705, -20.87258967,   5.22949248,\n        238.35748674,  90.21188107,  44.64549742, 104.73403135,\n        104.65641134,  57.42029734],\n       [288.95001035,  60.77276944, 119.3240796 , 253.84061263,\n        213.77332966, 228.60424579,  53.14878483, -13.70385707,\n        258.96171102, 227.79928611, 260.34263295, 253.16958462,\n        257.21597997, -21.87788569,   1.19325315, 222.71235895,\n        250.70417125,  77.8836426 ,  47.85929268, 237.65240372,\n        -26.61732006, 231.16834576],\n       [189.06406088, 164.5762708 ,  85.82191851, 155.5114337 ,\n        280.40377498, 102.75436664, 288.50350064, -10.04120325,\n         45.00382649,  93.17122188, 115.90401359,  96.9288528 ,\n         67.79105171,  66.41309991, 225.98594344, 141.10869341,\n          2.22135031,  62.20245005, 192.8705472 ,  61.22092355,\n        120.9626056 , -15.13518189],\n       [216.02109528, 105.13134117, 185.07908345, -45.67609569,\n        182.68862333,  -5.37371533, -18.47870999, -13.21955546,\n         79.970414  , 155.15177273, 119.01966766,  76.91860427,\n        138.84003606, 255.30426259, 181.23273929, -45.04204085,\n         58.25160817,  87.02400024, -12.35005836, 186.64574923,\n        -32.1197063 ,  15.70413237],\n       [123.21526077, 179.35511152, 201.66375326, 138.1623812 ,\n        154.45778359, 297.22965493, 271.77293322, 289.35981297,\n         -9.72799451, 271.77559558,  21.32953075, -35.69606925,\n          9.38596386, 276.10010246,  51.84493709, 198.87335021,\n        221.4130992 , 229.77775787, 274.85183966,  40.507374  ,\n        257.94498787,  46.69712124],\n       [223.4536245 , -17.68679413, 208.49344912,  82.07140002,\n        202.8052291 , 144.09491055, 284.42277223, 174.08352447,\n         57.60051856,  82.33009679, 295.84926705,  -1.24013765,\n        257.78492501, 204.44793232,  16.13066696, 188.42861703,\n        288.53936171, 266.37306728, 233.94968514,  62.72011092,\n        162.90910134,  60.19715292],\n       [-39.15963793, 108.30793815, 274.91910244, 268.61244913,\n        -27.61272402, 187.628109  , -30.71073917, 180.04127396,\n        276.72998534,  34.55097024, 139.48987552, 270.53569375,\n        -18.57770673,   6.33183864, -22.17290215, 226.25609403,\n        -18.8009864 , 175.39537002,  53.88367367, 103.30287399,\n         32.97964549, 157.21858609],\n       [234.37651312, 239.44139647,  -7.90915182,  13.27253895,\n        291.44030993, 195.73181854, 246.83744252,  84.2337728 ,\n        209.23201282, 145.47833133,  66.15093798, -31.93923395,\n        282.55311487, -19.72836391, 175.66362955, 276.04451585,\n         78.82698984, -12.51099737,  92.35221173, -49.73040569,\n         11.25027773,  60.07551239],\n       [223.58350817, -44.86587572,  53.53690035, 220.83389022,\n        -43.64493774, 252.64689379, 253.81346477, -33.34624387,\n         77.2474617 , 157.25340319,   8.79090038, 163.32407872,\n         47.17052893,   9.15636943, 183.57800357, 253.82604573,\n        -36.81306608, 104.09326504,   7.13039744, 241.20890659,\n        156.86506155, 253.8646561 ],\n       [175.77456666,  36.82444023, 180.77187492, 227.26023925,\n        103.03985181, 154.96651779,  74.64182225,  11.30085036,\n        155.12878058, 283.76325043,  57.31040425, -12.76809098,\n        263.74875613, 215.1039257 , 278.33968796,  -2.54542989,\n         20.91274123,  22.46287739, 106.4085117 ,  84.64144524,\n        111.63676364,  30.42228854],\n       [191.12297772, 211.14443972, 181.95032478, 206.38093922,\n         -3.96301138, 123.05042165,  47.921926  , -12.18382322,\n         80.29077729, 145.34196477, 103.57246547,  51.41596428,\n        -45.96504364, 120.37662112, 203.33882133, 123.44738284,\n        211.88022139, 150.94756886, 221.86885274, 197.69750418,\n         11.49183199, 279.74486107],\n       [-36.23955051,  26.30148944, 167.47230839, -30.79060634,\n         80.63904127, -21.61580818, 158.06318744, 179.49870641,\n        205.84151435, 105.72289499, 159.30662815,  13.77859519,\n         -9.38373126,  30.93589747, 247.62624733, 226.11858039,\n         59.47609774, -28.79960212, 139.84483439,  65.42586931,\n        213.4411988 , 249.54771534],\n       [230.75658727, 102.97241411,  37.71423367, 249.13247771,\n         42.5069192 , 287.14629246,  91.43597035, -18.46966874,\n        108.02221048, 192.42594546,  61.04802982,  53.2299494 ,\n          4.16564672,  82.27917793,  -5.07374089, -29.58429925,\n        261.41841738,  61.77909176, 114.40325279,  74.18130601,\n        169.51006728,  12.64951076],\n       [167.30463462, 198.57520036, 280.60317753,  17.64439518,\n        188.35466346, 184.07081406, 238.48480504, 102.93694558,\n        -42.06644302,  86.7834342 , 133.04259745, -24.15758909,\n        131.81211341, 189.14352692, 235.48751738, 122.24698436,\n        102.57247618,  65.24817726,  57.24922192, 143.98408231,\n        153.55562214, 118.24446909],\n       [ 83.88319168, 103.96886499, 270.2144334 ,  18.47652417,\n        -36.52681478, 259.09153274, 259.68215528,  23.07517483,\n        226.83464158,  81.99093381, 258.10576515, -19.68961854,\n        265.37947479,  18.9076358 ,   2.37504329, 244.91624695,\n        289.22135801, -31.85701534, 176.46902324,  97.4401147 ,\n          7.98248407, 235.7185616 ],\n       [-47.60963685, -10.13118762, 160.38933066, 215.34479675,\n        165.99672608, -36.06167973,  19.15245134, -31.55103411,\n        263.36772828, 137.02269177,  47.55128859,  48.44953681,\n        162.87418827, 131.53580163, 129.03267386,  81.10191403,\n        129.32489145, -23.95094032, -23.82598215, 210.85020477,\n         90.33714782, 265.20355389],\n       [126.65403317, -13.52452114,  -8.03946104, 258.38933995,\n         -4.03706537, 132.75748393, 279.12679883, 198.56521038,\n        157.27481594,  15.43402042, 263.0029184 , 199.43201109,\n        217.05410361,   3.28013052, 200.86411004, 248.77488706,\n        263.49885814, 258.31434051, 274.53002698, 282.77522083,\n         44.6979607 ,  93.56719715],\n       [157.75145387,  63.10115711, 222.41064713,  71.43740137,\n        240.47355277,  36.50057703, 206.11708846, -13.54829695,\n        226.13222341, -14.35218113, 284.61824003, 262.15369768,\n        234.61348647,   7.42692073,  -1.73704383, 184.46366692,\n        243.0273613 ,  32.64493445, 133.22055797, 288.70138586,\n         -3.61961031, 131.56302757],\n       [148.93804611, 203.45967506, 123.26709313, -19.5625307 ,\n        -48.38578099,  37.31272505, 203.18464365,  16.28377211,\n         34.43266381,  99.03408454, 287.72619722, 267.07182867,\n        276.44973731, -38.55815902, 206.23213353, 119.48104132,\n        -45.5536402 ,  37.71322976, -28.44959194, 131.5473743 ,\n        223.50109828, 223.08694501],\n       [235.43912157, 196.6324724 ,  90.91994453, 207.33004998,\n         46.45846265, 258.98620443, 146.33201521, 109.61751936,\n        222.06881541, 110.07817562, 203.23511883, -25.31024295,\n         69.0170452 , 139.94868715, 272.06405965, 237.77668365,\n         78.48165177,  35.43649128, 207.29361087, 270.90095635,\n         24.20022303, 284.57087473],\n       [120.81811732, 286.03095369,  92.97661546, 125.99096258,\n        255.77716149, 103.13837241,   8.08267413, 132.05433758,\n         85.53066684, 116.8035704 , 141.01599011, 174.78976766,\n         35.27957224, 105.47180455, -24.4267384 , 296.9021792 ,\n        219.68529631,   9.07985948, -16.46092784, 149.09979136,\n        288.82268966,  88.5028126 ],\n       [135.14240317,  -7.46391186,  46.08581669, -19.37037801,\n         15.25211787, 219.04378163,  59.58757093, 130.01600274,\n         -8.03939264,  56.44677264, -20.79544064, 129.7372625 ,\n         95.89389435,  55.85905764, 149.14536371, -43.2747072 ,\n        261.19115842, 269.14945575, 129.61421452,  98.84619855,\n         71.71344   , 257.78453459],\n       [184.44844908, 111.16117276, 291.00944623,  32.70505822,\n        253.34486615,  39.02781036, -31.23553326, 190.67579549,\n        198.65945316,  49.12864995, 153.54114106, 174.42917503,\n        107.56059815,  52.37740103, 292.99982569, 125.31887491,\n        171.79104358, 203.97724099, 217.24423809,  -9.38454883,\n         36.97349206, 251.24450995],\n       [170.95545467,  80.9903996 ,  83.44368284, -29.99258147,\n        213.72510356, 115.15341921,  68.25106498, 260.84152338,\n        109.45244965,  91.32196821, -40.08199472,  26.96575892,\n        265.16418285, 162.07723189, 238.51885345, 218.04906358,\n        250.60248646,  90.76482547, 169.38882263, -27.72492233,\n        -41.51886779,  60.35432236],\n       [148.34549787,   9.44432162, 152.95994378, -41.23876404,\n        161.6405887 , 106.9914069 , 145.78881683, 252.08393143,\n         96.33884637, 196.71753621, 110.68804238, 223.65283343,\n        113.58159843, -41.84112275,  76.64609777, 231.59240189,\n         74.1065709 , 256.80813615, 269.17424789, 295.35137904,\n        -48.58164812, 281.35615816]]),\n\n\n---------\nAlternative approach (recommended):\n  In case you would rather not copy the arguments from above or the printing percision was causing distortions/truncations, the test results dictionary, which was returned, contains the following material :\n\n    1) Arguments tuple passed to your function ==> test_results['test_args']\n    2) Keyword arguments dictionary passed to your function ==> test_results['test_kwargs']\n    3) The correct solution ==> test_results['correct_sol']\n    4) Your function's solution ==> test_results['stu_sol']\n\n  Therefore, you should expect the following tests to pass if your implementation was correct:\n\n    assert np.array_equal(test_results['correct_sol'], test_results['stu_sol'])\n    assert np.array_equal(test_results['stu_sol'], YOUR_FUNCTION_NAME(*test_results['test_args'], **test_results['test_kwargs']))\n",
     "output_type": "error",
     "traceback": [
      "\u001b[1;31m---------------------------------------------------------------------------\u001b[0m",
      "\u001b[1;31mAssertionError\u001b[0m                            Traceback (most recent call last)",
      "Cell \u001b[1;32mIn[27], line 8\u001b[0m\n\u001b[0;32m      6\u001b[0m \u001b[38;5;66;03m# Checking against the pre-computed test database\u001b[39;00m\n\u001b[0;32m      7\u001b[0m test_results \u001b[38;5;241m=\u001b[39m test_case_checker(E_A_given_B, task_id\u001b[38;5;241m=\u001b[39m\u001b[38;5;241m6\u001b[39m)\n\u001b[1;32m----> 8\u001b[0m \u001b[38;5;28;01massert\u001b[39;00m test_results[\u001b[38;5;124m'\u001b[39m\u001b[38;5;124mpassed\u001b[39m\u001b[38;5;124m'\u001b[39m], test_results[\u001b[38;5;124m'\u001b[39m\u001b[38;5;124mmessage\u001b[39m\u001b[38;5;124m'\u001b[39m]\n",
      "\u001b[1;31mAssertionError\u001b[0m: \nError in task 6: Your solution is not the same as the correct solution.\n    your_solution=15339.82334989751\n    correct_solution=14289.08500399769\n----------\nFollowing are the test case arguments that were used to help you diagnose the issue.\nEach argument will be printed on a separate line: \n\n\nNote:\n  * If the data input is too large, it might get truncated and you might not see the whole arguments in the printed message.\n  * If the input had high-precision numbers, the printing precision may not be enough to reproduce the same exact output.\n In these cases, you should follow the instructions below (i.e., the alternative approach section).\n\n\n\nclass_A_data=np.array([[ 1.45083552e+02,  9.80820117e+01, -1.34275394e+01,\n        -2.17072232e+01, -1.83425669e+01, -4.12217073e+01,\n         1.78265525e+02,  7.04301711e+00,  1.41011708e+02,\n         2.64587595e+02,  2.48554107e+02,  4.62761486e+01,\n         2.95476038e+02,  2.71613241e+02,  2.69786165e+02,\n         2.01106117e+02,  2.52036525e+02,  1.71159643e+02,\n         2.69624212e+02,  1.04790421e+02, -3.20095929e+01,\n         4.61040337e+01],\n       [-4.65175973e+01, -2.41272109e+01,  2.77774234e+02,\n        -4.08768915e+01, -3.53960903e+01,  2.50412732e+02,\n        -1.38638347e+01, -3.01468922e+01,  1.32593662e+01,\n         2.27567951e+02,  2.18258486e+02,  6.12128637e+01,\n         1.69410531e+01, -9.22436682e+00,  5.82657725e+01,\n         2.95024636e+02,  2.10656261e+02,  1.23402223e+02,\n         2.06173876e+02,  2.63796002e+02, -2.56554057e+01,\n         2.94857922e+02],\n       [-4.40728199e+01,  9.51289824e+01,  9.55090737e+01,\n         1.08415464e+02,  2.54941016e+02,  1.32630089e+02,\n        -4.78484214e+01,  3.34060694e+01, -3.24623545e+01,\n         4.33093328e+01,  8.97818704e+01,  9.05357816e+01,\n        -3.52682247e+01,  1.37710138e+02,  4.84021502e+01,\n         2.98012841e+02, -2.67731812e+01,  2.30189312e+02,\n         2.66275186e+02,  5.66646550e+01,  1.24245606e+02,\n         2.74111923e+02],\n       [-2.44657040e+01,  2.11048625e+02, -2.64591589e+01,\n         2.58770459e+02, -3.99756236e+01,  3.47368999e+01,\n         3.85787267e+01,  2.29529534e+02,  2.03233869e+02,\n         2.25705616e+02,  2.11621553e+02,  2.89131670e+02,\n         1.93263302e+02,  2.69256954e+02,  4.45097807e+01,\n         2.87207313e+00, -2.43734728e+01,  1.39353206e+02,\n         2.88113895e+02,  1.01612769e+02,  1.12225797e+02,\n        -4.29059461e+01],\n       [ 2.37634779e+02,  2.98792842e+01,  2.95533839e+02,\n         6.46868826e+01,  1.31384402e+02,  1.26331491e+02,\n         8.92510182e+01,  2.22398251e+02,  1.81357688e+02,\n         9.02852842e+01,  2.08103562e+01,  1.58129943e+02,\n         1.85345676e+02,  1.87322994e+02, -1.55897941e+01,\n        -3.57835028e+00,  2.85400205e+02,  7.69004035e+01,\n         1.91426988e+02,  2.52373937e+02,  2.63566453e+02,\n         1.64981713e+02],\n       [ 1.58721228e+02,  1.89080001e+02, -2.35091023e+01,\n         1.50698172e+02,  2.29750399e+02,  1.74078478e+02,\n         5.67000154e+01,  1.41517006e+02,  1.14095895e+02,\n         1.58272872e+02,  2.08770214e+02,  1.70753843e+02,\n         2.21675964e+02,  6.30980313e+01,  7.85329111e+00,\n         2.49789687e+02,  1.12335689e+02,  2.58676885e+02,\n         2.76459468e+02,  1.75399422e+02,  2.60612169e+02,\n         2.06372439e+02],\n       [ 1.34033988e+02,  2.64657326e+02,  2.22093646e+02,\n         1.81016726e+02,  1.02241956e+02,  1.93291614e+01,\n         2.50570373e+02,  1.40115292e+02,  1.89092667e+02,\n         2.14683093e+02,  1.89338872e+02,  7.27144302e+01,\n         2.94979456e+02,  1.70545568e+02,  1.18865194e+02,\n         1.66125474e+02,  2.45329027e+02, -4.17305924e+01,\n         2.66585139e+02, -1.78289663e+01,  7.74060681e+01,\n         2.14851949e+01],\n       [ 1.11985176e+01,  1.47520203e+02, -4.77684947e+01,\n         2.84775836e+02,  1.38951312e+02, -1.74412818e+01,\n        -3.10473635e+01,  1.92061546e+01,  2.67412173e+02,\n         4.83420298e+01, -2.94037690e+01, -4.79273422e+01,\n         9.82197542e+01,  1.69107246e+02,  2.13071450e+02,\n         2.31609645e+02,  1.76704487e+02,  6.18775711e+01,\n         2.07253494e+02,  2.39981014e+02, -3.50766965e+01,\n         1.42915402e+02],\n       [-1.15468561e+01,  2.74950403e+02, -3.58298988e+01,\n         1.97967710e+02,  1.12343775e+02,  1.04863268e+02,\n        -2.77781101e+01, -2.68732107e+01,  7.20955187e+01,\n         2.62013129e+02,  7.75751966e+01,  9.19537884e+01,\n         1.19343612e+02, -2.83873472e+01,  2.92461620e+02,\n         2.45412025e+02,  5.77315118e+01,  1.93635256e+02,\n         2.83242270e+02,  1.76319079e+02,  2.86073546e+02,\n         2.42555330e+02],\n       [ 2.62235731e+02,  8.41482327e-01, -1.91166135e+01,\n         1.42969986e+02,  1.75589070e+02,  7.13537071e+01,\n         1.70759575e+02, -2.19740980e+01,  7.34665773e+01,\n         2.85149261e+02,  2.90023776e+02,  1.93372765e+02,\n         1.38491870e+02,  6.81776570e+01,  7.59264693e+01,\n         2.57148928e+02,  1.92785666e+02,  2.05734456e+02,\n        -1.30466791e+01,  1.62474507e+02,  2.70179905e+02,\n         1.92564240e+02],\n       [ 8.97289318e+01, -1.28660185e+01,  2.71056007e+02,\n         2.54835624e+02,  1.44168133e+02, -9.09633945e+00,\n         2.61689225e+02,  1.19348632e+02,  8.67752311e+01,\n         2.68148841e+02,  5.54744877e+01,  2.42693337e+02,\n         2.81996169e+02,  2.56476824e+02,  2.08981685e+02,\n         1.56445257e+00,  1.78696497e+02,  2.64974367e+02,\n         1.92799877e+02,  4.09788383e+01,  2.79120756e+02,\n        -3.27486604e+01],\n       [ 1.78300979e+02,  5.41431587e+01, -1.94927355e+01,\n        -2.83502944e+01,  1.81496309e+02,  8.11860894e+01,\n         4.19154399e+01,  2.22656527e+02,  2.94949915e+02,\n         2.92563834e+02,  2.14012619e+02, -2.90404537e+01,\n         6.01843928e-01,  2.94868963e+02, -3.58278586e-01,\n         1.71243735e+01,  2.17588366e+02,  6.77343476e+01,\n         2.44911081e+01,  2.10234351e+02,  6.38700996e+01,\n         1.43726346e+02],\n       [ 1.96167734e+02,  1.58770807e+02,  2.75433963e+01,\n         1.63574402e+02,  1.95150903e+02,  1.58606485e+01,\n         2.67499238e+02,  2.61344015e+02,  2.86319986e+02,\n         1.71095505e+02,  1.79384268e+02,  1.20721579e+02,\n         2.27060743e+02, -5.97346500e-01,  1.72915718e+02,\n         2.88788812e+02, -4.79082634e+01,  7.40618534e+01,\n         4.44460344e+01,  2.14885676e+02,  2.31762126e+01,\n         8.69153644e+01],\n       [ 2.63678974e+02, -1.94974383e+01,  1.23518926e+02,\n         4.37975870e+01,  1.93122103e+02,  1.20323909e+00,\n         6.45421774e+01,  4.82311348e+01,  1.12159441e+02,\n         4.37451557e+00,  2.13999041e+02,  1.73132750e+02,\n        -1.19225011e+01,  8.88521553e+01,  2.44344439e+02,\n         4.04208040e-01, -1.56343147e+01,  2.79613561e+02,\n         1.61886063e+02,  1.73228744e+02, -2.66000100e+01,\n         3.49535888e+01],\n       [ 2.48259908e+02,  1.98397890e+02,  1.54148949e+02,\n         2.08923122e+02,  1.29512054e+00, -1.34250293e-01,\n         1.47775355e+02,  1.60441010e+02,  1.96236611e+02,\n         3.13471818e+01, -3.05785557e+01,  1.16211482e+02,\n         1.38808911e+02,  1.85841045e+02,  2.91332994e+02,\n         1.64362428e+02,  2.33367225e+02,  2.66582236e+02,\n         2.94424123e+02, -1.00048144e+01, -2.62579143e+01,\n         2.94191202e+02],\n       [ 2.99878909e+02, -1.17492615e+01,  9.77129904e+01,\n         1.62950080e+02, -4.63069919e+01,  2.34133457e+02,\n        -1.24109768e+01,  1.13489328e+02,  2.77383604e+02,\n         2.95877861e+02,  1.81263505e+02, -2.38733547e+01,\n         1.09393527e+02, -2.30073580e+01,  1.39809822e+02,\n         1.09253668e+02,  1.56262493e+02,  1.34505000e+02,\n         5.41166370e+01,  1.98087364e+02, -3.79727461e+00,\n         2.79550517e+02],\n       [ 7.25255445e+00,  2.96954928e+02,  1.33465927e+02,\n         5.46501152e+01,  2.93217883e+02,  2.63351271e+02,\n         1.60707257e+02, -2.38129840e+00,  7.21997359e+00,\n         1.10652725e+02,  2.55086329e+02,  1.46982795e+02,\n         2.84607383e+02,  2.16386516e+02, -5.28765206e+00,\n         1.05317997e+01,  2.94356345e+00,  8.80266116e+01,\n         1.50705590e+02,  1.25599731e+02, -3.27281964e+01,\n         6.36993565e+01],\n       [ 5.19235091e+01,  9.19197168e+01,  5.30002637e+01,\n         6.15280120e+01,  9.85016852e+01,  1.57870521e+01,\n         1.23522925e+02, -5.47285118e+00,  5.32228302e+01,\n        -3.93716838e+01,  2.37256611e+02,  7.98793023e+01,\n         1.67327192e+02,  4.42804549e+01,  8.12302528e+01,\n         1.96672712e+02,  2.16243051e+02,  2.45068736e+02,\n         2.95065308e+01,  9.67518259e+01,  2.88529577e+00,\n         1.97144180e+02],\n       [ 2.10895766e+02,  1.21996447e+02, -1.21102431e+01,\n        -2.68542076e+01,  2.44296678e+02, -7.28829310e-01,\n         2.82068583e+02,  2.38927005e+02,  7.06904076e+01,\n        -2.98715309e+01,  2.88418929e+02,  1.35275315e+02,\n         2.08108256e+01,  1.20259302e+02,  2.13666934e+02,\n         5.08790344e+01,  1.28283558e+02,  2.74709146e+02,\n         1.38537062e+02, -9.35762390e+00,  1.75548134e+02,\n         4.23282195e+01],\n       [ 1.97286257e+02,  2.53473970e+02,  1.46591309e+02,\n         1.32848609e+02,  1.45108546e+02,  5.25596610e+01,\n         1.40431186e+02,  1.49497388e+02,  1.85444132e+02,\n         3.88294811e+01,  2.10985710e+02,  1.37121685e+02,\n         1.30196976e+01,  1.26192750e+02,  2.90086712e+02,\n         1.08791692e+02,  2.69789063e+02,  2.37796740e+02,\n         1.69436846e+02,  1.06482764e+01,  2.95198615e+02,\n         1.26908247e+02],\n       [ 5.44461595e-02,  2.99266070e+02,  3.32154034e+01,\n         1.33808810e+02,  1.49578278e+02,  2.22070128e+02,\n         2.98288911e+02,  1.78842953e+02,  3.66971692e+01,\n         1.65493205e+02, -1.51159668e+01,  1.59995356e+02,\n         1.48139150e+02,  2.51334249e+02,  1.70395893e+02,\n         2.17083922e+02,  6.99831338e+01,  1.65595802e+02,\n         2.82116450e+02, -3.85586864e+01,  4.80588206e+01,\n        -4.96137073e+01],\n       [ 2.55672933e+02,  8.35002784e+01,  3.19610935e+01,\n         2.15980203e+02,  2.51289505e+02,  4.53917411e+01,\n         1.82325140e+02,  1.34182099e+02,  1.90865742e+02,\n         7.94532043e+01,  1.51274613e+02,  1.68401572e+02,\n         1.09660331e+02,  7.05613605e+01,  6.26292664e+01,\n        -4.68160081e+01,  7.61517394e+01, -1.71037721e+01,\n         2.33683686e+02,  1.83080830e+02,  2.08404103e+02,\n         2.99805056e+02],\n       [ 1.70833630e+02,  1.70767337e+02,  2.90502606e+02,\n         2.26609262e+02,  9.23853094e+01,  2.93870482e+02,\n         1.93526007e+02, -4.78212964e+01,  1.58945100e+02,\n         2.70731448e+02,  9.68634993e+01,  7.98344860e+01,\n         4.48183659e+01,  7.10106194e+01, -2.60373691e+01,\n        -1.23330566e+01,  2.65149001e+02,  1.00356377e+02,\n         2.38690220e+02, -4.61181057e+00,  2.08845681e+02,\n         1.90261750e+02],\n       [ 2.06955845e+02,  4.97401199e+00,  2.63293680e+02,\n         1.98174800e+02,  1.58689798e+02,  2.67087685e+02,\n         1.38246957e+02, -4.34278940e+01,  7.35552037e+01,\n         9.00273309e+01,  2.25928351e+01,  4.04542389e+01,\n         8.39967823e+01, -2.66385174e+01,  1.04437866e+02,\n        -4.70131625e+01,  2.90608132e+02,  8.10933171e+01,\n         1.81079243e+02,  1.94665083e+02, -3.81217988e+01,\n         2.70981612e+02],\n       [ 1.00937746e+02,  2.19401608e+02,  2.51429701e+02,\n         3.38403881e+01,  5.67057739e+01,  6.50266623e+01,\n         1.59919106e+02,  6.20928504e+01,  1.04155779e+02,\n         1.81198570e+02,  1.51342392e+02, -3.93119570e+01,\n         1.90112400e+02, -2.34503122e+01,  3.38441558e+01,\n         2.57517221e+02,  1.98041474e+02,  5.77301693e+01,\n        -3.43337144e-02, -3.91792507e+01, -3.68070630e+00,\n         1.67005624e+02],\n       [ 2.87974122e+02,  2.07107978e+02,  2.54286817e+02,\n         8.25597903e+01,  1.39312308e+02, -2.46845719e+00,\n         1.63197418e+02,  2.35193594e+02,  1.07774830e+02,\n         1.71372661e+01,  1.75356227e+02, -2.49660178e+01,\n         3.59485854e+01, -1.83159188e-01, -5.79168653e+00,\n         1.51967295e+02,  2.83960059e+02,  1.77719396e+02,\n         1.79445569e+02,  2.20361535e+02,  7.67721499e+01,\n         1.59622324e+02],\n       [ 1.52462752e+02,  1.40730478e+02,  2.42984356e+02,\n         2.17488904e+02,  1.62467044e+02, -1.09746190e+01,\n         4.70578516e+01,  1.03774616e+02,  2.97581223e+02,\n         1.83765576e+02,  1.95342778e+02, -2.97416361e+01,\n         2.30865390e+02,  1.69848948e+02,  2.89041116e+02,\n         1.56524525e+02,  1.81894817e+02,  6.08883929e+01,\n         1.36276869e+02,  1.12503736e+02,  1.30042924e+02,\n         1.45299319e+02],\n       [-1.57777740e+01,  1.03786181e+01,  2.76682511e+02,\n         1.10317426e+02,  2.16939980e+02,  1.39879401e+02,\n        -1.21315958e+01,  9.86583237e+01, -2.02210095e+01,\n        -4.79690055e+01,  1.30165755e+02,  7.93890909e+01,\n         1.00910318e+02,  2.35685884e+02,  5.58877627e+00,\n         1.66464366e+02,  1.80415688e+02,  3.10269507e+01,\n         2.01179091e+02, -1.61213222e+01,  1.83628606e+02,\n         2.10755811e+02],\n       [ 2.89583632e+02,  2.66355929e+02,  2.50161902e+02,\n         2.64634082e+01,  1.90616452e+02, -4.10195999e+01,\n         2.52540216e+02, -1.83711799e+01,  2.51597276e+02,\n         2.22646123e+02,  1.71394394e+02,  1.21010636e+02,\n         9.26276848e+01,  2.41315709e+02, -1.25799721e+01,\n         8.67016634e+01,  2.32157378e+02,  2.09262885e+01,\n         3.75636023e+01,  3.81028948e+01,  1.86793284e+02,\n         3.16725772e+01]]),\nclass_B_data=np.array([[224.93003993, 225.62880828, 202.90526432, 286.85156577,\n        271.98756977,   3.31080561, 205.64235079, -48.54218897,\n        -49.98008742,  -4.11760809,  32.91629012, 223.53390338,\n        222.75296244,  53.77199452,  18.56056822,  21.2504404 ,\n        152.30787223,  -1.70594651, 277.73875624, 105.5090616 ,\n        286.93747765,   1.68608998],\n       [101.59924668, 275.027738  , -18.7711992 , 146.77503997,\n        181.4122368 ,  90.84310585, 255.58417621, -46.81425595,\n        -13.20170433,  47.7406638 ,  37.43694013, 230.61660027,\n         55.35722364, 166.31273092, 220.65118667, 137.52300912,\n        281.77267871, 196.51549637, 254.75379804, 127.94509282,\n          5.54903893, 154.83748919],\n       [114.86781562, 251.05739397, 188.18904363, 121.26490356,\n        205.79024735,  80.5086108 , -48.70414461, 170.34790182,\n        201.34030392, -34.00767285, 242.87997195, -17.95867357,\n         30.50314482, 133.66837046, 109.20802678,  38.1534146 ,\n        141.26232624, 252.78649218, 185.67644283, 144.04052337,\n        -14.84919055, 288.23251025],\n       [167.67020702, -17.71713667, 109.20797472, -28.60195403,\n        189.29131423, 284.99977064, 125.9263791 , 169.26640033,\n        -36.74197215, 215.11727262, 181.00945537, -35.30249878,\n        224.49937414, -47.75272019, 267.37325736, 220.11774388,\n        173.52971262,  45.60517003, 242.76563185,  34.87709341,\n         99.15850649,  15.04492233],\n       [ 84.74747361, 256.1420609 ,  10.59354025,  84.6318042 ,\n        150.37862618, 210.63512442, -44.66737772, 103.67275986,\n        -41.35479165, 201.44209464, 248.15502807, 142.97791522,\n        197.42442449, 236.81139705, -20.87258967,   5.22949248,\n        238.35748674,  90.21188107,  44.64549742, 104.73403135,\n        104.65641134,  57.42029734],\n       [288.95001035,  60.77276944, 119.3240796 , 253.84061263,\n        213.77332966, 228.60424579,  53.14878483, -13.70385707,\n        258.96171102, 227.79928611, 260.34263295, 253.16958462,\n        257.21597997, -21.87788569,   1.19325315, 222.71235895,\n        250.70417125,  77.8836426 ,  47.85929268, 237.65240372,\n        -26.61732006, 231.16834576],\n       [189.06406088, 164.5762708 ,  85.82191851, 155.5114337 ,\n        280.40377498, 102.75436664, 288.50350064, -10.04120325,\n         45.00382649,  93.17122188, 115.90401359,  96.9288528 ,\n         67.79105171,  66.41309991, 225.98594344, 141.10869341,\n          2.22135031,  62.20245005, 192.8705472 ,  61.22092355,\n        120.9626056 , -15.13518189],\n       [216.02109528, 105.13134117, 185.07908345, -45.67609569,\n        182.68862333,  -5.37371533, -18.47870999, -13.21955546,\n         79.970414  , 155.15177273, 119.01966766,  76.91860427,\n        138.84003606, 255.30426259, 181.23273929, -45.04204085,\n         58.25160817,  87.02400024, -12.35005836, 186.64574923,\n        -32.1197063 ,  15.70413237],\n       [123.21526077, 179.35511152, 201.66375326, 138.1623812 ,\n        154.45778359, 297.22965493, 271.77293322, 289.35981297,\n         -9.72799451, 271.77559558,  21.32953075, -35.69606925,\n          9.38596386, 276.10010246,  51.84493709, 198.87335021,\n        221.4130992 , 229.77775787, 274.85183966,  40.507374  ,\n        257.94498787,  46.69712124],\n       [223.4536245 , -17.68679413, 208.49344912,  82.07140002,\n        202.8052291 , 144.09491055, 284.42277223, 174.08352447,\n         57.60051856,  82.33009679, 295.84926705,  -1.24013765,\n        257.78492501, 204.44793232,  16.13066696, 188.42861703,\n        288.53936171, 266.37306728, 233.94968514,  62.72011092,\n        162.90910134,  60.19715292],\n       [-39.15963793, 108.30793815, 274.91910244, 268.61244913,\n        -27.61272402, 187.628109  , -30.71073917, 180.04127396,\n        276.72998534,  34.55097024, 139.48987552, 270.53569375,\n        -18.57770673,   6.33183864, -22.17290215, 226.25609403,\n        -18.8009864 , 175.39537002,  53.88367367, 103.30287399,\n         32.97964549, 157.21858609],\n       [234.37651312, 239.44139647,  -7.90915182,  13.27253895,\n        291.44030993, 195.73181854, 246.83744252,  84.2337728 ,\n        209.23201282, 145.47833133,  66.15093798, -31.93923395,\n        282.55311487, -19.72836391, 175.66362955, 276.04451585,\n         78.82698984, -12.51099737,  92.35221173, -49.73040569,\n         11.25027773,  60.07551239],\n       [223.58350817, -44.86587572,  53.53690035, 220.83389022,\n        -43.64493774, 252.64689379, 253.81346477, -33.34624387,\n         77.2474617 , 157.25340319,   8.79090038, 163.32407872,\n         47.17052893,   9.15636943, 183.57800357, 253.82604573,\n        -36.81306608, 104.09326504,   7.13039744, 241.20890659,\n        156.86506155, 253.8646561 ],\n       [175.77456666,  36.82444023, 180.77187492, 227.26023925,\n        103.03985181, 154.96651779,  74.64182225,  11.30085036,\n        155.12878058, 283.76325043,  57.31040425, -12.76809098,\n        263.74875613, 215.1039257 , 278.33968796,  -2.54542989,\n         20.91274123,  22.46287739, 106.4085117 ,  84.64144524,\n        111.63676364,  30.42228854],\n       [191.12297772, 211.14443972, 181.95032478, 206.38093922,\n         -3.96301138, 123.05042165,  47.921926  , -12.18382322,\n         80.29077729, 145.34196477, 103.57246547,  51.41596428,\n        -45.96504364, 120.37662112, 203.33882133, 123.44738284,\n        211.88022139, 150.94756886, 221.86885274, 197.69750418,\n         11.49183199, 279.74486107],\n       [-36.23955051,  26.30148944, 167.47230839, -30.79060634,\n         80.63904127, -21.61580818, 158.06318744, 179.49870641,\n        205.84151435, 105.72289499, 159.30662815,  13.77859519,\n         -9.38373126,  30.93589747, 247.62624733, 226.11858039,\n         59.47609774, -28.79960212, 139.84483439,  65.42586931,\n        213.4411988 , 249.54771534],\n       [230.75658727, 102.97241411,  37.71423367, 249.13247771,\n         42.5069192 , 287.14629246,  91.43597035, -18.46966874,\n        108.02221048, 192.42594546,  61.04802982,  53.2299494 ,\n          4.16564672,  82.27917793,  -5.07374089, -29.58429925,\n        261.41841738,  61.77909176, 114.40325279,  74.18130601,\n        169.51006728,  12.64951076],\n       [167.30463462, 198.57520036, 280.60317753,  17.64439518,\n        188.35466346, 184.07081406, 238.48480504, 102.93694558,\n        -42.06644302,  86.7834342 , 133.04259745, -24.15758909,\n        131.81211341, 189.14352692, 235.48751738, 122.24698436,\n        102.57247618,  65.24817726,  57.24922192, 143.98408231,\n        153.55562214, 118.24446909],\n       [ 83.88319168, 103.96886499, 270.2144334 ,  18.47652417,\n        -36.52681478, 259.09153274, 259.68215528,  23.07517483,\n        226.83464158,  81.99093381, 258.10576515, -19.68961854,\n        265.37947479,  18.9076358 ,   2.37504329, 244.91624695,\n        289.22135801, -31.85701534, 176.46902324,  97.4401147 ,\n          7.98248407, 235.7185616 ],\n       [-47.60963685, -10.13118762, 160.38933066, 215.34479675,\n        165.99672608, -36.06167973,  19.15245134, -31.55103411,\n        263.36772828, 137.02269177,  47.55128859,  48.44953681,\n        162.87418827, 131.53580163, 129.03267386,  81.10191403,\n        129.32489145, -23.95094032, -23.82598215, 210.85020477,\n         90.33714782, 265.20355389],\n       [126.65403317, -13.52452114,  -8.03946104, 258.38933995,\n         -4.03706537, 132.75748393, 279.12679883, 198.56521038,\n        157.27481594,  15.43402042, 263.0029184 , 199.43201109,\n        217.05410361,   3.28013052, 200.86411004, 248.77488706,\n        263.49885814, 258.31434051, 274.53002698, 282.77522083,\n         44.6979607 ,  93.56719715],\n       [157.75145387,  63.10115711, 222.41064713,  71.43740137,\n        240.47355277,  36.50057703, 206.11708846, -13.54829695,\n        226.13222341, -14.35218113, 284.61824003, 262.15369768,\n        234.61348647,   7.42692073,  -1.73704383, 184.46366692,\n        243.0273613 ,  32.64493445, 133.22055797, 288.70138586,\n         -3.61961031, 131.56302757],\n       [148.93804611, 203.45967506, 123.26709313, -19.5625307 ,\n        -48.38578099,  37.31272505, 203.18464365,  16.28377211,\n         34.43266381,  99.03408454, 287.72619722, 267.07182867,\n        276.44973731, -38.55815902, 206.23213353, 119.48104132,\n        -45.5536402 ,  37.71322976, -28.44959194, 131.5473743 ,\n        223.50109828, 223.08694501],\n       [235.43912157, 196.6324724 ,  90.91994453, 207.33004998,\n         46.45846265, 258.98620443, 146.33201521, 109.61751936,\n        222.06881541, 110.07817562, 203.23511883, -25.31024295,\n         69.0170452 , 139.94868715, 272.06405965, 237.77668365,\n         78.48165177,  35.43649128, 207.29361087, 270.90095635,\n         24.20022303, 284.57087473],\n       [120.81811732, 286.03095369,  92.97661546, 125.99096258,\n        255.77716149, 103.13837241,   8.08267413, 132.05433758,\n         85.53066684, 116.8035704 , 141.01599011, 174.78976766,\n         35.27957224, 105.47180455, -24.4267384 , 296.9021792 ,\n        219.68529631,   9.07985948, -16.46092784, 149.09979136,\n        288.82268966,  88.5028126 ],\n       [135.14240317,  -7.46391186,  46.08581669, -19.37037801,\n         15.25211787, 219.04378163,  59.58757093, 130.01600274,\n         -8.03939264,  56.44677264, -20.79544064, 129.7372625 ,\n         95.89389435,  55.85905764, 149.14536371, -43.2747072 ,\n        261.19115842, 269.14945575, 129.61421452,  98.84619855,\n         71.71344   , 257.78453459],\n       [184.44844908, 111.16117276, 291.00944623,  32.70505822,\n        253.34486615,  39.02781036, -31.23553326, 190.67579549,\n        198.65945316,  49.12864995, 153.54114106, 174.42917503,\n        107.56059815,  52.37740103, 292.99982569, 125.31887491,\n        171.79104358, 203.97724099, 217.24423809,  -9.38454883,\n         36.97349206, 251.24450995],\n       [170.95545467,  80.9903996 ,  83.44368284, -29.99258147,\n        213.72510356, 115.15341921,  68.25106498, 260.84152338,\n        109.45244965,  91.32196821, -40.08199472,  26.96575892,\n        265.16418285, 162.07723189, 238.51885345, 218.04906358,\n        250.60248646,  90.76482547, 169.38882263, -27.72492233,\n        -41.51886779,  60.35432236],\n       [148.34549787,   9.44432162, 152.95994378, -41.23876404,\n        161.6405887 , 106.9914069 , 145.78881683, 252.08393143,\n         96.33884637, 196.71753621, 110.68804238, 223.65283343,\n        113.58159843, -41.84112275,  76.64609777, 231.59240189,\n         74.1065709 , 256.80813615, 269.17424789, 295.35137904,\n        -48.58164812, 281.35615816]]),\n\n\n---------\nAlternative approach (recommended):\n  In case you would rather not copy the arguments from above or the printing percision was causing distortions/truncations, the test results dictionary, which was returned, contains the following material :\n\n    1) Arguments tuple passed to your function ==> test_results['test_args']\n    2) Keyword arguments dictionary passed to your function ==> test_results['test_kwargs']\n    3) The correct solution ==> test_results['correct_sol']\n    4) Your function's solution ==> test_results['stu_sol']\n\n  Therefore, you should expect the following tests to pass if your implementation was correct:\n\n    assert np.array_equal(test_results['correct_sol'], test_results['stu_sol'])\n    assert np.array_equal(test_results['stu_sol'], YOUR_FUNCTION_NAME(*test_results['test_args'], **test_results['test_kwargs']))\n"
     ]
    }
   ],
   "source": [
    "some_data = ((np.arange(35).reshape(5,7) ** 13) % 20) / 7.\n",
    "some_data = np.repeat(some_data, 8, axis=1)\n",
    "some_E = E_A_given_B(some_data, (some_data**1.02))\n",
    "assert some_E.round(3)==0.001\n",
    "\n",
    "# Checking against the pre-computed test database\n",
    "test_results = test_case_checker(E_A_given_B, task_id=6)\n",
    "assert test_results['passed'], test_results['message']"
   ]
  },
  {
   "cell_type": "code",
   "execution_count": null,
   "metadata": {
    "deletable": false,
    "editable": false,
    "nbgrader": {
     "cell_type": "code",
     "checksum": "fbe68400369dff27a31d7ef4fad474a8",
     "grade": false,
     "grade_id": "cell-5b8c4f72e0beea08",
     "locked": true,
     "schema_version": 3,
     "solution": false,
     "task": false
    }
   },
   "outputs": [
    {
     "name": "stdout",
     "output_type": "stream",
     "text": [
      "Row 0 (This row took 7.585 seconds to finish)\n",
      "Row 1 (This row took 12.599 seconds to finish)\n",
      "Row 2 (This row took 26.747 seconds to finish)\n",
      "Row 3 (This row took 34.555 seconds to finish)\n",
      "Row 4 (This row took 42.519 seconds to finish)\n",
      "Row 5 (This row took 52.903 seconds to finish)\n",
      "Row 6 (This row took 61.299 seconds to finish)\n",
      "Row 7 (This row took 64.713 seconds to finish)\n",
      "Row 8"
     ]
    },
    {
     "ename": "KeyboardInterrupt",
     "evalue": "",
     "output_type": "error",
     "traceback": [
      "\u001b[1;31m---------------------------------------------------------------------------\u001b[0m",
      "\u001b[1;31mKeyboardInterrupt\u001b[0m                         Traceback (most recent call last)",
      "Cell \u001b[1;32mIn[91], line 11\u001b[0m\n\u001b[0;32m      9\u001b[0m class_B_data \u001b[38;5;241m=\u001b[39m images_raw[labels \u001b[38;5;241m==\u001b[39m col, :, :, :]\n\u001b[0;32m     10\u001b[0m E_A_cond_B \u001b[38;5;241m=\u001b[39m E_A_given_B(class_A_data, class_B_data)\n\u001b[1;32m---> 11\u001b[0m E_B_cond_A \u001b[38;5;241m=\u001b[39m \u001b[43mE_A_given_B\u001b[49m\u001b[43m(\u001b[49m\u001b[43mclass_B_data\u001b[49m\u001b[43m,\u001b[49m\u001b[43m \u001b[49m\u001b[43mclass_A_data\u001b[49m\u001b[43m)\u001b[49m\n\u001b[0;32m     12\u001b[0m SimilarityMatrix[col, row] \u001b[38;5;241m=\u001b[39m (E_A_cond_B \u001b[38;5;241m+\u001b[39m E_B_cond_A)\u001b[38;5;241m/\u001b[39m\u001b[38;5;241m2.\u001b[39m\n\u001b[0;32m     13\u001b[0m SimilarityMatrix[row, col] \u001b[38;5;241m=\u001b[39m (E_A_cond_B \u001b[38;5;241m+\u001b[39m E_B_cond_A)\u001b[38;5;241m/\u001b[39m\u001b[38;5;241m2.\u001b[39m\n",
      "Cell \u001b[1;32mIn[33], line 30\u001b[0m, in \u001b[0;36mE_A_given_B\u001b[1;34m(class_A_data, class_B_data)\u001b[0m\n\u001b[0;32m     28\u001b[0m \u001b[38;5;28;01mfrom\u001b[39;00m \u001b[38;5;21;01msklearn\u001b[39;00m\u001b[38;5;21;01m.\u001b[39;00m\u001b[38;5;21;01mdecomposition\u001b[39;00m \u001b[38;5;28;01mimport\u001b[39;00m TruncatedSVD\n\u001b[0;32m     29\u001b[0m svd \u001b[38;5;241m=\u001b[39m TruncatedSVD(n_components\u001b[38;5;241m=\u001b[39m\u001b[38;5;241m20\u001b[39m, algorithm\u001b[38;5;241m=\u001b[39m\u001b[38;5;124m'\u001b[39m\u001b[38;5;124mrandomized\u001b[39m\u001b[38;5;124m'\u001b[39m, n_iter\u001b[38;5;241m=\u001b[39m\u001b[38;5;241m5\u001b[39m, random_state\u001b[38;5;241m=\u001b[39m\u001b[38;5;241m12345\u001b[39m)\n\u001b[1;32m---> 30\u001b[0m \u001b[43msvd\u001b[49m\u001b[38;5;241;43m.\u001b[39;49m\u001b[43mfit\u001b[49m\u001b[43m(\u001b[49m\u001b[43mB_data_reshaped\u001b[49m\u001b[43m)\u001b[49m\n\u001b[0;32m     31\u001b[0m B_principal_components \u001b[38;5;241m=\u001b[39m svd\u001b[38;5;241m.\u001b[39mcomponents_\u001b[38;5;241m.\u001b[39mT  \u001b[38;5;66;03m# Shape (d, 20)\u001b[39;00m\n\u001b[0;32m     33\u001b[0m \u001b[38;5;66;03m# Step 4: Project Class A onto the principal components and reconstruct in original space\u001b[39;00m\n",
      "File \u001b[1;32mc:\\Users\\aleom\\OneDrive - INSTITUTO TECNOLOGICO AUTONOMO DE MEXICO\\ITAM\\Quinto Semestre\\Aprendizaje de Máquina\\Proyectos\\.venv\\Lib\\site-packages\\sklearn\\decomposition\\_truncated_svd.py:208\u001b[0m, in \u001b[0;36mTruncatedSVD.fit\u001b[1;34m(self, X, y)\u001b[0m\n\u001b[0;32m    192\u001b[0m \u001b[38;5;28;01mdef\u001b[39;00m \u001b[38;5;21mfit\u001b[39m(\u001b[38;5;28mself\u001b[39m, X, y\u001b[38;5;241m=\u001b[39m\u001b[38;5;28;01mNone\u001b[39;00m):\n\u001b[0;32m    193\u001b[0m \u001b[38;5;250m    \u001b[39m\u001b[38;5;124;03m\"\"\"Fit model on training data X.\u001b[39;00m\n\u001b[0;32m    194\u001b[0m \n\u001b[0;32m    195\u001b[0m \u001b[38;5;124;03m    Parameters\u001b[39;00m\n\u001b[1;32m   (...)\u001b[0m\n\u001b[0;32m    206\u001b[0m \u001b[38;5;124;03m        Returns the transformer object.\u001b[39;00m\n\u001b[0;32m    207\u001b[0m \u001b[38;5;124;03m    \"\"\"\u001b[39;00m\n\u001b[1;32m--> 208\u001b[0m     \u001b[38;5;28;43mself\u001b[39;49m\u001b[38;5;241;43m.\u001b[39;49m\u001b[43mfit_transform\u001b[49m\u001b[43m(\u001b[49m\u001b[43mX\u001b[49m\u001b[43m)\u001b[49m\n\u001b[0;32m    209\u001b[0m     \u001b[38;5;28;01mreturn\u001b[39;00m \u001b[38;5;28mself\u001b[39m\n",
      "File \u001b[1;32mc:\\Users\\aleom\\OneDrive - INSTITUTO TECNOLOGICO AUTONOMO DE MEXICO\\ITAM\\Quinto Semestre\\Aprendizaje de Máquina\\Proyectos\\.venv\\Lib\\site-packages\\sklearn\\utils\\_set_output.py:316\u001b[0m, in \u001b[0;36m_wrap_method_output.<locals>.wrapped\u001b[1;34m(self, X, *args, **kwargs)\u001b[0m\n\u001b[0;32m    314\u001b[0m \u001b[38;5;129m@wraps\u001b[39m(f)\n\u001b[0;32m    315\u001b[0m \u001b[38;5;28;01mdef\u001b[39;00m \u001b[38;5;21mwrapped\u001b[39m(\u001b[38;5;28mself\u001b[39m, X, \u001b[38;5;241m*\u001b[39margs, \u001b[38;5;241m*\u001b[39m\u001b[38;5;241m*\u001b[39mkwargs):\n\u001b[1;32m--> 316\u001b[0m     data_to_wrap \u001b[38;5;241m=\u001b[39m \u001b[43mf\u001b[49m\u001b[43m(\u001b[49m\u001b[38;5;28;43mself\u001b[39;49m\u001b[43m,\u001b[49m\u001b[43m \u001b[49m\u001b[43mX\u001b[49m\u001b[43m,\u001b[49m\u001b[43m \u001b[49m\u001b[38;5;241;43m*\u001b[39;49m\u001b[43margs\u001b[49m\u001b[43m,\u001b[49m\u001b[43m \u001b[49m\u001b[38;5;241;43m*\u001b[39;49m\u001b[38;5;241;43m*\u001b[39;49m\u001b[43mkwargs\u001b[49m\u001b[43m)\u001b[49m\n\u001b[0;32m    317\u001b[0m     \u001b[38;5;28;01mif\u001b[39;00m \u001b[38;5;28misinstance\u001b[39m(data_to_wrap, \u001b[38;5;28mtuple\u001b[39m):\n\u001b[0;32m    318\u001b[0m         \u001b[38;5;66;03m# only wrap the first output for cross decomposition\u001b[39;00m\n\u001b[0;32m    319\u001b[0m         return_tuple \u001b[38;5;241m=\u001b[39m (\n\u001b[0;32m    320\u001b[0m             _wrap_data_with_container(method, data_to_wrap[\u001b[38;5;241m0\u001b[39m], X, \u001b[38;5;28mself\u001b[39m),\n\u001b[0;32m    321\u001b[0m             \u001b[38;5;241m*\u001b[39mdata_to_wrap[\u001b[38;5;241m1\u001b[39m:],\n\u001b[0;32m    322\u001b[0m         )\n",
      "File \u001b[1;32mc:\\Users\\aleom\\OneDrive - INSTITUTO TECNOLOGICO AUTONOMO DE MEXICO\\ITAM\\Quinto Semestre\\Aprendizaje de Máquina\\Proyectos\\.venv\\Lib\\site-packages\\sklearn\\base.py:1473\u001b[0m, in \u001b[0;36m_fit_context.<locals>.decorator.<locals>.wrapper\u001b[1;34m(estimator, *args, **kwargs)\u001b[0m\n\u001b[0;32m   1466\u001b[0m     estimator\u001b[38;5;241m.\u001b[39m_validate_params()\n\u001b[0;32m   1468\u001b[0m \u001b[38;5;28;01mwith\u001b[39;00m config_context(\n\u001b[0;32m   1469\u001b[0m     skip_parameter_validation\u001b[38;5;241m=\u001b[39m(\n\u001b[0;32m   1470\u001b[0m         prefer_skip_nested_validation \u001b[38;5;129;01mor\u001b[39;00m global_skip_validation\n\u001b[0;32m   1471\u001b[0m     )\n\u001b[0;32m   1472\u001b[0m ):\n\u001b[1;32m-> 1473\u001b[0m     \u001b[38;5;28;01mreturn\u001b[39;00m \u001b[43mfit_method\u001b[49m\u001b[43m(\u001b[49m\u001b[43mestimator\u001b[49m\u001b[43m,\u001b[49m\u001b[43m \u001b[49m\u001b[38;5;241;43m*\u001b[39;49m\u001b[43margs\u001b[49m\u001b[43m,\u001b[49m\u001b[43m \u001b[49m\u001b[38;5;241;43m*\u001b[39;49m\u001b[38;5;241;43m*\u001b[39;49m\u001b[43mkwargs\u001b[49m\u001b[43m)\u001b[49m\n",
      "File \u001b[1;32mc:\\Users\\aleom\\OneDrive - INSTITUTO TECNOLOGICO AUTONOMO DE MEXICO\\ITAM\\Quinto Semestre\\Aprendizaje de Máquina\\Proyectos\\.venv\\Lib\\site-packages\\sklearn\\decomposition\\_truncated_svd.py:246\u001b[0m, in \u001b[0;36mTruncatedSVD.fit_transform\u001b[1;34m(self, X, y)\u001b[0m\n\u001b[0;32m    241\u001b[0m     \u001b[38;5;28;01mif\u001b[39;00m \u001b[38;5;28mself\u001b[39m\u001b[38;5;241m.\u001b[39mn_components \u001b[38;5;241m>\u001b[39m X\u001b[38;5;241m.\u001b[39mshape[\u001b[38;5;241m1\u001b[39m]:\n\u001b[0;32m    242\u001b[0m         \u001b[38;5;28;01mraise\u001b[39;00m \u001b[38;5;167;01mValueError\u001b[39;00m(\n\u001b[0;32m    243\u001b[0m             \u001b[38;5;124mf\u001b[39m\u001b[38;5;124m\"\u001b[39m\u001b[38;5;124mn_components(\u001b[39m\u001b[38;5;132;01m{\u001b[39;00m\u001b[38;5;28mself\u001b[39m\u001b[38;5;241m.\u001b[39mn_components\u001b[38;5;132;01m}\u001b[39;00m\u001b[38;5;124m) must be <=\u001b[39m\u001b[38;5;124m\"\u001b[39m\n\u001b[0;32m    244\u001b[0m             \u001b[38;5;124mf\u001b[39m\u001b[38;5;124m\"\u001b[39m\u001b[38;5;124m n_features(\u001b[39m\u001b[38;5;132;01m{\u001b[39;00mX\u001b[38;5;241m.\u001b[39mshape[\u001b[38;5;241m1\u001b[39m]\u001b[38;5;132;01m}\u001b[39;00m\u001b[38;5;124m).\u001b[39m\u001b[38;5;124m\"\u001b[39m\n\u001b[0;32m    245\u001b[0m         )\n\u001b[1;32m--> 246\u001b[0m     U, Sigma, VT \u001b[38;5;241m=\u001b[39m \u001b[43mrandomized_svd\u001b[49m\u001b[43m(\u001b[49m\n\u001b[0;32m    247\u001b[0m \u001b[43m        \u001b[49m\u001b[43mX\u001b[49m\u001b[43m,\u001b[49m\n\u001b[0;32m    248\u001b[0m \u001b[43m        \u001b[49m\u001b[38;5;28;43mself\u001b[39;49m\u001b[38;5;241;43m.\u001b[39;49m\u001b[43mn_components\u001b[49m\u001b[43m,\u001b[49m\n\u001b[0;32m    249\u001b[0m \u001b[43m        \u001b[49m\u001b[43mn_iter\u001b[49m\u001b[38;5;241;43m=\u001b[39;49m\u001b[38;5;28;43mself\u001b[39;49m\u001b[38;5;241;43m.\u001b[39;49m\u001b[43mn_iter\u001b[49m\u001b[43m,\u001b[49m\n\u001b[0;32m    250\u001b[0m \u001b[43m        \u001b[49m\u001b[43mn_oversamples\u001b[49m\u001b[38;5;241;43m=\u001b[39;49m\u001b[38;5;28;43mself\u001b[39;49m\u001b[38;5;241;43m.\u001b[39;49m\u001b[43mn_oversamples\u001b[49m\u001b[43m,\u001b[49m\n\u001b[0;32m    251\u001b[0m \u001b[43m        \u001b[49m\u001b[43mpower_iteration_normalizer\u001b[49m\u001b[38;5;241;43m=\u001b[39;49m\u001b[38;5;28;43mself\u001b[39;49m\u001b[38;5;241;43m.\u001b[39;49m\u001b[43mpower_iteration_normalizer\u001b[49m\u001b[43m,\u001b[49m\n\u001b[0;32m    252\u001b[0m \u001b[43m        \u001b[49m\u001b[43mrandom_state\u001b[49m\u001b[38;5;241;43m=\u001b[39;49m\u001b[43mrandom_state\u001b[49m\u001b[43m,\u001b[49m\n\u001b[0;32m    253\u001b[0m \u001b[43m        \u001b[49m\u001b[43mflip_sign\u001b[49m\u001b[38;5;241;43m=\u001b[39;49m\u001b[38;5;28;43;01mFalse\u001b[39;49;00m\u001b[43m,\u001b[49m\n\u001b[0;32m    254\u001b[0m \u001b[43m    \u001b[49m\u001b[43m)\u001b[49m\n\u001b[0;32m    255\u001b[0m     U, VT \u001b[38;5;241m=\u001b[39m svd_flip(U, VT, u_based_decision\u001b[38;5;241m=\u001b[39m\u001b[38;5;28;01mFalse\u001b[39;00m)\n\u001b[0;32m    257\u001b[0m \u001b[38;5;28mself\u001b[39m\u001b[38;5;241m.\u001b[39mcomponents_ \u001b[38;5;241m=\u001b[39m VT\n",
      "File \u001b[1;32mc:\\Users\\aleom\\OneDrive - INSTITUTO TECNOLOGICO AUTONOMO DE MEXICO\\ITAM\\Quinto Semestre\\Aprendizaje de Máquina\\Proyectos\\.venv\\Lib\\site-packages\\sklearn\\utils\\_param_validation.py:186\u001b[0m, in \u001b[0;36mvalidate_params.<locals>.decorator.<locals>.wrapper\u001b[1;34m(*args, **kwargs)\u001b[0m\n\u001b[0;32m    184\u001b[0m global_skip_validation \u001b[38;5;241m=\u001b[39m get_config()[\u001b[38;5;124m\"\u001b[39m\u001b[38;5;124mskip_parameter_validation\u001b[39m\u001b[38;5;124m\"\u001b[39m]\n\u001b[0;32m    185\u001b[0m \u001b[38;5;28;01mif\u001b[39;00m global_skip_validation:\n\u001b[1;32m--> 186\u001b[0m     \u001b[38;5;28;01mreturn\u001b[39;00m \u001b[43mfunc\u001b[49m\u001b[43m(\u001b[49m\u001b[38;5;241;43m*\u001b[39;49m\u001b[43margs\u001b[49m\u001b[43m,\u001b[49m\u001b[43m \u001b[49m\u001b[38;5;241;43m*\u001b[39;49m\u001b[38;5;241;43m*\u001b[39;49m\u001b[43mkwargs\u001b[49m\u001b[43m)\u001b[49m\n\u001b[0;32m    188\u001b[0m func_sig \u001b[38;5;241m=\u001b[39m signature(func)\n\u001b[0;32m    190\u001b[0m \u001b[38;5;66;03m# Map *args/**kwargs to the function signature\u001b[39;00m\n",
      "File \u001b[1;32mc:\\Users\\aleom\\OneDrive - INSTITUTO TECNOLOGICO AUTONOMO DE MEXICO\\ITAM\\Quinto Semestre\\Aprendizaje de Máquina\\Proyectos\\.venv\\Lib\\site-packages\\sklearn\\utils\\extmath.py:520\u001b[0m, in \u001b[0;36mrandomized_svd\u001b[1;34m(M, n_components, n_oversamples, n_iter, power_iteration_normalizer, transpose, flip_sign, random_state, svd_lapack_driver)\u001b[0m\n\u001b[0;32m    516\u001b[0m \u001b[38;5;28;01mif\u001b[39;00m transpose:\n\u001b[0;32m    517\u001b[0m     \u001b[38;5;66;03m# this implementation is a bit faster with smaller shape[1]\u001b[39;00m\n\u001b[0;32m    518\u001b[0m     M \u001b[38;5;241m=\u001b[39m M\u001b[38;5;241m.\u001b[39mT\n\u001b[1;32m--> 520\u001b[0m Q \u001b[38;5;241m=\u001b[39m \u001b[43mrandomized_range_finder\u001b[49m\u001b[43m(\u001b[49m\n\u001b[0;32m    521\u001b[0m \u001b[43m    \u001b[49m\u001b[43mM\u001b[49m\u001b[43m,\u001b[49m\n\u001b[0;32m    522\u001b[0m \u001b[43m    \u001b[49m\u001b[43msize\u001b[49m\u001b[38;5;241;43m=\u001b[39;49m\u001b[43mn_random\u001b[49m\u001b[43m,\u001b[49m\n\u001b[0;32m    523\u001b[0m \u001b[43m    \u001b[49m\u001b[43mn_iter\u001b[49m\u001b[38;5;241;43m=\u001b[39;49m\u001b[43mn_iter\u001b[49m\u001b[43m,\u001b[49m\n\u001b[0;32m    524\u001b[0m \u001b[43m    \u001b[49m\u001b[43mpower_iteration_normalizer\u001b[49m\u001b[38;5;241;43m=\u001b[39;49m\u001b[43mpower_iteration_normalizer\u001b[49m\u001b[43m,\u001b[49m\n\u001b[0;32m    525\u001b[0m \u001b[43m    \u001b[49m\u001b[43mrandom_state\u001b[49m\u001b[38;5;241;43m=\u001b[39;49m\u001b[43mrandom_state\u001b[49m\u001b[43m,\u001b[49m\n\u001b[0;32m    526\u001b[0m \u001b[43m\u001b[49m\u001b[43m)\u001b[49m\n\u001b[0;32m    528\u001b[0m \u001b[38;5;66;03m# project M to the (k + p) dimensional space using the basis vectors\u001b[39;00m\n\u001b[0;32m    529\u001b[0m B \u001b[38;5;241m=\u001b[39m Q\u001b[38;5;241m.\u001b[39mT \u001b[38;5;241m@\u001b[39m M\n",
      "File \u001b[1;32mc:\\Users\\aleom\\OneDrive - INSTITUTO TECNOLOGICO AUTONOMO DE MEXICO\\ITAM\\Quinto Semestre\\Aprendizaje de Máquina\\Proyectos\\.venv\\Lib\\site-packages\\sklearn\\utils\\extmath.py:338\u001b[0m, in \u001b[0;36mrandomized_range_finder\u001b[1;34m(A, size, n_iter, power_iteration_normalizer, random_state)\u001b[0m\n\u001b[0;32m    336\u001b[0m \u001b[38;5;28;01mfor\u001b[39;00m _ \u001b[38;5;129;01min\u001b[39;00m \u001b[38;5;28mrange\u001b[39m(n_iter):\n\u001b[0;32m    337\u001b[0m     Q, _ \u001b[38;5;241m=\u001b[39m normalizer(A \u001b[38;5;241m@\u001b[39m Q)\n\u001b[1;32m--> 338\u001b[0m     Q, _ \u001b[38;5;241m=\u001b[39m \u001b[43mnormalizer\u001b[49m\u001b[43m(\u001b[49m\u001b[43mA\u001b[49m\u001b[38;5;241;43m.\u001b[39;49m\u001b[43mT\u001b[49m\u001b[43m \u001b[49m\u001b[38;5;241;43m@\u001b[39;49m\u001b[43m \u001b[49m\u001b[43mQ\u001b[49m\u001b[43m)\u001b[49m\n\u001b[0;32m    340\u001b[0m \u001b[38;5;66;03m# Sample the range of A using by linear projection of Q\u001b[39;00m\n\u001b[0;32m    341\u001b[0m \u001b[38;5;66;03m# Extract an orthonormal basis\u001b[39;00m\n\u001b[0;32m    342\u001b[0m Q, _ \u001b[38;5;241m=\u001b[39m qr_normalizer(A \u001b[38;5;241m@\u001b[39m Q)\n",
      "File \u001b[1;32mc:\\Users\\aleom\\OneDrive - INSTITUTO TECNOLOGICO AUTONOMO DE MEXICO\\ITAM\\Quinto Semestre\\Aprendizaje de Máquina\\Proyectos\\.venv\\Lib\\site-packages\\scipy\\linalg\\_decomp_lu.py:355\u001b[0m, in \u001b[0;36mlu\u001b[1;34m(a, permute_l, overwrite_a, check_finite, p_indices)\u001b[0m\n\u001b[0;32m    353\u001b[0m     p \u001b[38;5;241m=\u001b[39m np\u001b[38;5;241m.\u001b[39mempty(m, dtype\u001b[38;5;241m=\u001b[39mnp\u001b[38;5;241m.\u001b[39mint32)\n\u001b[0;32m    354\u001b[0m     u \u001b[38;5;241m=\u001b[39m np\u001b[38;5;241m.\u001b[39mzeros([k, k], dtype\u001b[38;5;241m=\u001b[39ma1\u001b[38;5;241m.\u001b[39mdtype)\n\u001b[1;32m--> 355\u001b[0m     \u001b[43mlu_dispatcher\u001b[49m\u001b[43m(\u001b[49m\u001b[43ma1\u001b[49m\u001b[43m,\u001b[49m\u001b[43m \u001b[49m\u001b[43mu\u001b[49m\u001b[43m,\u001b[49m\u001b[43m \u001b[49m\u001b[43mp\u001b[49m\u001b[43m,\u001b[49m\u001b[43m \u001b[49m\u001b[43mpermute_l\u001b[49m\u001b[43m)\u001b[49m\n\u001b[0;32m    356\u001b[0m     P, L, U \u001b[38;5;241m=\u001b[39m (p, a1, u) \u001b[38;5;28;01mif\u001b[39;00m m \u001b[38;5;241m>\u001b[39m n \u001b[38;5;28;01melse\u001b[39;00m (p, u, a1)\n\u001b[0;32m    358\u001b[0m \u001b[38;5;28;01melse\u001b[39;00m:  \u001b[38;5;66;03m# Stacked array\u001b[39;00m\n\u001b[0;32m    359\u001b[0m \n\u001b[0;32m    360\u001b[0m     \u001b[38;5;66;03m# Prepare the contiguous data holders\u001b[39;00m\n",
      "\u001b[1;31mKeyboardInterrupt\u001b[0m: "
     ]
    }
   ],
   "source": [
    "if perform_computation:\n",
    "    num_classes = class_means.shape[0]\n",
    "    SimilarityMatrix = np.zeros((num_classes, num_classes))\n",
    "    for row in range(num_classes):\n",
    "        print(f'Row {row}', end='')\n",
    "        row_st_time = time.time()\n",
    "        for col in range(row+1):\n",
    "            class_A_data = images_raw[labels == row, :, :, :]\n",
    "            class_B_data = images_raw[labels == col, :, :, :]\n",
    "            E_A_cond_B = E_A_given_B(class_A_data, class_B_data)\n",
    "            E_B_cond_A = E_A_given_B(class_B_data, class_A_data)\n",
    "            SimilarityMatrix[col, row] = (E_A_cond_B + E_B_cond_A)/2.\n",
    "            SimilarityMatrix[row, col] = (E_A_cond_B + E_B_cond_A)/2.\n",
    "        print(f' (This row took %.3f seconds to finish)'%(time.time() - row_st_time))"
   ]
  },
  {
   "cell_type": "markdown",
   "metadata": {
    "deletable": false,
    "editable": false,
    "nbgrader": {
     "cell_type": "markdown",
     "checksum": "50a73fec306ac8b73cbd6c4c2bf7b188",
     "grade": false,
     "grade_id": "cell-e1370af64e9e2a25",
     "locked": true,
     "schema_version": 3,
     "solution": false,
     "task": false
    }
   },
   "source": [
    "If you apply any general `SimilarityMatrix` variable to the previously defined `PCoA` function, you may get `NaN` entries due to the fact that they may not generally be a metric distance matrix (i.e., having non-zero diagonal elements and the triangle inequality not alway holding).\n",
    "\n",
    "This issue can be best seen when having a similarity measure that is extremely uneven (i.e., when the small entries are extremely small and the large entries are extremely large). This will make it difficult for the triangle inequality to hold. It is a good idea to ammend the PCoA in a way that can deal with such non-metric similarity measures."
   ]
  },
  {
   "cell_type": "code",
   "execution_count": null,
   "metadata": {
    "deletable": false,
    "editable": false,
    "nbgrader": {
     "cell_type": "code",
     "checksum": "3da0ab82de3f3bc46874b328d0a4a3e1",
     "grade": false,
     "grade_id": "cell-522ec2f452d22a94",
     "locked": true,
     "schema_version": 3,
     "solution": false,
     "task": false
    }
   },
   "outputs": [
    {
     "name": "stderr",
     "output_type": "stream",
     "text": [
      "C:\\Users\\aleom\\AppData\\Local\\Temp\\ipykernel_5152\\812717563.py:42: RuntimeWarning: invalid value encountered in sqrt\n",
      "  VT = top_eigenvectors * np.sqrt(top_eigenvalues)\n"
     ]
    },
    {
     "data": {
      "text/plain": [
       "array([[-1.20033351e+131,  9.98502844e+130, -6.61410353e+129,\n",
       "        -8.79989775e+128,              nan,              nan,\n",
       "                     nan,              nan,              nan,\n",
       "                     nan],\n",
       "       [-1.89995396e+132,  2.71561512e+131, -3.05799604e+126,\n",
       "        -2.68568278e+125,              nan,              nan,\n",
       "                     nan,              nan,              nan,\n",
       "                     nan],\n",
       "       [-1.23013925e+131,  5.28562118e+130,  1.16861836e+129,\n",
       "         1.03130924e+129,              nan,              nan,\n",
       "                     nan,              nan,              nan,\n",
       "                     nan],\n",
       "       [ 1.11842913e+131, -2.48640180e+130,  1.33937163e+129,\n",
       "        -1.15006662e+129,              nan,              nan,\n",
       "                     nan,              nan,              nan,\n",
       "                     nan],\n",
       "       [-1.30029241e+131,  5.05337182e+130,  2.05746380e+129,\n",
       "         2.69101523e+129,              nan,              nan,\n",
       "                     nan,              nan,              nan,\n",
       "                     nan],\n",
       "       [ 1.17221197e+132, -2.06657238e+131, -8.47677238e+128,\n",
       "         1.87570675e+128,              nan,              nan,\n",
       "                     nan,              nan,              nan,\n",
       "                     nan],\n",
       "       [-1.24109192e+131,  5.57175319e+130, -1.74238318e+129,\n",
       "         5.27861973e+128,              nan,              nan,\n",
       "                     nan,              nan,              nan,\n",
       "                     nan],\n",
       "       [ 1.43679264e+132,  4.48738776e+131,  5.38157702e+128,\n",
       "         2.05109517e+127,              nan,              nan,\n",
       "                     nan,              nan,              nan,\n",
       "                     nan],\n",
       "       [-1.30000141e+131,  5.28620903e+130,  4.09458564e+129,\n",
       "        -2.43105919e+129,              nan,              nan,\n",
       "                     nan,              nan,              nan,\n",
       "                     nan],\n",
       "       [-1.93707703e+131, -8.00598869e+131,  9.02481132e+126,\n",
       "         3.11608918e+126,              nan,              nan,\n",
       "                     nan,              nan,              nan,\n",
       "                     nan]])"
      ]
     },
     "execution_count": 36,
     "metadata": {},
     "output_type": "execute_result"
    }
   ],
   "source": [
    "VT = None\n",
    "if perform_computation:\n",
    "    VT = PCoA(SimilarityMatrix**40, r=10)\n",
    "VT"
   ]
  },
  {
   "cell_type": "markdown",
   "metadata": {
    "deletable": false,
    "editable": false,
    "nbgrader": {
     "cell_type": "markdown",
     "checksum": "d428472eb7fe25a4bcd9b5a378164d71",
     "grade": false,
     "grade_id": "cell-4c656ee8236e6df1",
     "locked": true,
     "schema_version": 3,
     "solution": false,
     "task": false
    }
   },
   "source": [
    "# <span style=\"color:blue\">Task 7</span>"
   ]
  },
  {
   "cell_type": "markdown",
   "metadata": {
    "deletable": false,
    "editable": false,
    "nbgrader": {
     "cell_type": "markdown",
     "checksum": "91e04f80cb89ac1f6818e1208f8b3c5e",
     "grade": false,
     "grade_id": "cell-6b29bc6b947d16ce",
     "locked": true,
     "schema_version": 3,
     "solution": false,
     "task": false
    }
   },
   "source": [
    "Write the function `Lingoes_PreProcessing` that does some pre-processing to the `SimilarityMatrix` to make it have the Euclidean property and the triangles to close.\n",
    "\n",
    "Here is a very brief and to the point description from the r documentation page (https://www.rdocumentation.org/packages/ape/versions/5.2/topics/pcoa).\n",
    "\n",
    "\"In the Lingoes (1971) procedure, a constant c1, equal to twice absolute value of the largest negative eigenvalue of the original principal coordinate analysis, is added to each original squared distance in the distance matrix, except the diagonal values. A newe principal coordinate analysis, performed on the modified distances, has at most (n-2) positive eigenvalues, at least 2 null eigenvalues, and no negative eigenvalue.\"\n",
    "\n",
    "If you're interested, you can read more about correction for negative eigenvalues in http://biol09.biol.umontreal.ca/PLcourses/Ordination_sections_1.3+1.4_PCoA_Eng.pdf.\n",
    "\n",
    "The function `Lingoes_PreProcessing` takes the numpy array `SimilarityMatrix` as input, and returns `ProcessedSimilarityMatrix` based on the following condition:\n",
    "1. If all eigenvalues computed during PCoA are non-negative, then `ProcessedSimilarityMatrix` should be the same as the `SimilarityMatrix`.\n",
    "2. Otherwise, follow the instructions to perform the Lingoes correction on the `SimilarityMatrix` and return `ProcessedSimilarityMatrix`.\n",
    "\n",
    "In other words, this is what you're supposed to do:\n",
    "  1. Perform the PCoA analysis on `SimilarityMatrix` right up to the point where you find the eigenvalues. Do not go any further. More precisely, you should only find the eigenvalues of the matrix $\\mathcal{W}$ corresponding to `SimilarityMatrix` in the PCoA analysis.\n",
    "  2. Find the minimum eigenvalue and call it $\\lambda_{\\min}$.\n",
    "  3. If $\\lambda_{\\min}\\geq 0$, then stop and return `SimilarityMatrix` as it was without any change.\n",
    "  4. If $\\lambda_{\\min} < 0$, then add  $2|\\lambda_{\\min}|$ to all the non-diagonal elements of `SimilarityMatrix` and return the resulting matrix.\n",
    "\n",
    "**Important Note**: **Do not call the `PCoA` function on `SimilarityMatrix`**. You should not call the whole `PCoA` function on `SimilarityMatrix`, as you do not care about the output reconstructions of `PCoA`. Instead, you need the eigenvalues for further processing, which are not returned by the `PCoA` function.\n",
    "\n",
    "**Note**: You do not need a `for` loop for adding a scalar to the non-diagonal elements of a matrix; you can add the scalar to all the elements of the matrix, and then subtract it from the same scalar multiple of the identity matrix (i.e., using a function like `np.eye` for instance)."
   ]
  },
  {
   "cell_type": "code",
   "execution_count": null,
   "metadata": {
    "deletable": false,
    "nbgrader": {
     "cell_type": "code",
     "checksum": "0483263fc680215db83df7c8ffdb0044",
     "grade": false,
     "grade_id": "cell-4eea1c40458edc28",
     "locked": false,
     "schema_version": 3,
     "solution": true,
     "task": false
    }
   },
   "outputs": [],
   "source": [
    "def Lingoes_PreProcessing(SimilarityMatrix):\n",
    "    \n",
    "    assert SimilarityMatrix.shape[0] == SimilarityMatrix.shape[1]\n",
    "    num_points = SimilarityMatrix.shape[0]\n",
    "    \n",
    "    # YOUR CODE HERE\n",
    "    I = np.eye(num_points)\n",
    "    one = np.ones((num_points, num_points)) / num_points\n",
    "    A = I - one \n",
    "\n",
    "    W = -0.5 * A @ SimilarityMatrix @ A.T\n",
    "\n",
    "    eigenvalues = np.linalg.eigh(W)[0]\n",
    "    lambda_min = np.min(eigenvalues)\n",
    "\n",
    "    if lambda_min >= 0:\n",
    "        ProcessedSimilarityMatrix = SimilarityMatrix\n",
    "    else:\n",
    "        correction = 2 * abs(lambda_min)\n",
    "        ProcessedSimilarityMatrix = SimilarityMatrix + correction * (1 - np.eye(num_points))\n",
    "    \n",
    "    return ProcessedSimilarityMatrix"
   ]
  },
  {
   "cell_type": "code",
   "execution_count": null,
   "metadata": {
    "deletable": false,
    "editable": false,
    "nbgrader": {
     "cell_type": "code",
     "checksum": "9c88fee2f5f7527893e54940d89acd71",
     "grade": true,
     "grade_id": "cell-5731507df5e8d4be",
     "locked": true,
     "points": 1,
     "schema_version": 3,
     "solution": false,
     "task": false
    }
   },
   "outputs": [],
   "source": [
    "some_data = ((np.arange(35).reshape(5,7) ** 13) % 20) / 7.\n",
    "some_dist = mean_image_squared_distances(some_data)**5.\n",
    "some_lingoes = Lingoes_PreProcessing(some_dist)\n",
    "assert np.array_equal(some_lingoes.round(1), np.array([[      0. ,  898987.1, 2896177.9,  936570.7, 1442744.7],\n",
    "                                                       [ 898987.1,       0. , 1229280.9,  897958.5, 1208489.7],\n",
    "                                                       [2896177.9, 1229280.9,       0. ,  944977.4,  947878.7],\n",
    "                                                       [ 936570.7,  897958.5,  944977.4,       0. ,  920604.3],\n",
    "                                                       [1442744.7, 1208489.7,  947878.7,  920604.3,       0. ]]))\n",
    "\n",
    "# Checking against the pre-computed test database\n",
    "test_results = test_case_checker(Lingoes_PreProcessing, task_id=7)\n",
    "assert test_results['passed'], test_results['message']"
   ]
  },
  {
   "cell_type": "code",
   "execution_count": null,
   "metadata": {
    "deletable": false,
    "editable": false,
    "nbgrader": {
     "cell_type": "code",
     "checksum": "cc2f51649ebb66d05278d88db66de921",
     "grade": false,
     "grade_id": "cell-6d75ae60eb8f6aaa",
     "locked": true,
     "schema_version": 3,
     "solution": false,
     "task": false
    }
   },
   "outputs": [],
   "source": [
    "def PCoA_lingoes(SimilarityMatrix, r=2):\n",
    "    ProcessedSimilarityMatrix = Lingoes_PreProcessing(SimilarityMatrix)\n",
    "    return PCoA(ProcessedSimilarityMatrix, r=r)"
   ]
  },
  {
   "cell_type": "code",
   "execution_count": null,
   "metadata": {
    "deletable": false,
    "editable": false,
    "nbgrader": {
     "cell_type": "code",
     "checksum": "80dc700478f75480da34b5dff994bedc",
     "grade": false,
     "grade_id": "cell-5d9a5c4eda000df6",
     "locked": true,
     "schema_version": 3,
     "solution": false,
     "task": false
    }
   },
   "outputs": [
    {
     "data": {
      "text/plain": [
       "array([[-120.30427689,  353.27844181],\n",
       "       [-407.71365627, -192.41284257],\n",
       "       [ 200.80158033,   69.43501421],\n",
       "       [ 227.9882781 , -150.40629772],\n",
       "       [  35.21484082,  154.81131396],\n",
       "       [ 344.00394159, -111.75789117],\n",
       "       [ 113.2368912 ,  -45.76289537],\n",
       "       [ 145.98643227,   26.79751706],\n",
       "       [-289.76700316,  180.42771928],\n",
       "       [-249.447028  , -284.41007948]])"
      ]
     },
     "execution_count": 40,
     "metadata": {},
     "output_type": "execute_result"
    }
   ],
   "source": [
    "VT = None\n",
    "if perform_computation:\n",
    "    VT = PCoA_lingoes(SimilarityMatrix, r=2)\n",
    "VT    "
   ]
  },
  {
   "cell_type": "code",
   "execution_count": null,
   "metadata": {
    "deletable": false,
    "editable": false,
    "nbgrader": {
     "cell_type": "code",
     "checksum": "95b9b6f78128246e96c3686b8daf93b6",
     "grade": false,
     "grade_id": "cell-24df815518377cec",
     "locked": true,
     "schema_version": 3,
     "solution": false,
     "task": false
    }
   },
   "outputs": [
    {
     "data": {
      "image/png": "[encoded data removed]",
      "text/plain": [
       "<Figure size 1080x720 with 1 Axes>"
      ]
     },
     "metadata": {},
     "output_type": "display_data"
    }
   ],
   "source": [
    "if perform_computation:\n",
    "    class_names_list = sorted(list(class_to_idx.keys()))\n",
    "    fig, ax = plt.subplots(figsize=(9,6.), dpi=120)\n",
    "    x_components = VT[:,0]\n",
    "    y_components = VT[:,1]\n",
    "    sns.regplot(x=x_components, y=y_components, fit_reg=False, marker=\"*\", color=\"Blue\", ax=ax)\n",
    "    for class_idx in range(VT.shape[0]):\n",
    "        num_letters = len(class_names_list[class_idx])\n",
    "        ax.text(x_components[class_idx]-num_letters*8, y_components[class_idx]+10, \n",
    "                class_names_list[class_idx].capitalize(), \n",
    "                horizontalalignment='left', size='medium', color='black', weight='semibold')\n",
    "    ax.set_xlabel('Reconstructed Dimension 1')\n",
    "    ax.set_ylabel('Reconstructed Dimension 2')\n",
    "    _ = ax.set_title('Generalized PCoA on CIFAR-10 Images')"
   ]
  }
 ],
 "metadata": {
  "kernelspec": {
   "display_name": "Python 3",
   "language": "python",
   "name": "python3"
  },
  "language_info": {
   "codemirror_mode": {
    "name": "ipython",
    "version": 3
   },
   "file_extension": ".py",
   "mimetype": "text/x-python",
   "name": "python",
   "nbconvert_exporter": "python",
   "pygments_lexer": "ipython3",
   "version": "3.12.6"
  }
 },
 "nbformat": 4,
 "nbformat_minor": 4
}
